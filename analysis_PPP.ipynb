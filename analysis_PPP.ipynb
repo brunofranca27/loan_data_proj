{
 "cells": [
  {
   "cell_type": "code",
   "execution_count": 1,
   "metadata": {},
   "outputs": [],
   "source": [
    "import pandas as pd \n",
    "import matplotlib.pyplot as plt\n",
    "import numpy as np"
   ]
  },
  {
   "cell_type": "code",
   "execution_count": 2,
   "metadata": {},
   "outputs": [
    {
     "data": {
      "text/html": [
       "<div>\n",
       "<style scoped>\n",
       "    .dataframe tbody tr th:only-of-type {\n",
       "        vertical-align: middle;\n",
       "    }\n",
       "\n",
       "    .dataframe tbody tr th {\n",
       "        vertical-align: top;\n",
       "    }\n",
       "\n",
       "    .dataframe thead th {\n",
       "        text-align: right;\n",
       "    }\n",
       "</style>\n",
       "<table border=\"1\" class=\"dataframe\">\n",
       "  <thead>\n",
       "    <tr style=\"text-align: right;\">\n",
       "      <th></th>\n",
       "      <th>LoanRange</th>\n",
       "      <th>BusinessName</th>\n",
       "      <th>Address</th>\n",
       "      <th>City</th>\n",
       "      <th>State</th>\n",
       "      <th>Zip</th>\n",
       "      <th>NAICSCode</th>\n",
       "      <th>BusinessType</th>\n",
       "      <th>RaceEthnicity</th>\n",
       "      <th>Gender</th>\n",
       "      <th>Veteran</th>\n",
       "      <th>NonProfit</th>\n",
       "      <th>JobsRetained</th>\n",
       "      <th>DateApproved</th>\n",
       "      <th>Lender</th>\n",
       "      <th>CD</th>\n",
       "    </tr>\n",
       "  </thead>\n",
       "  <tbody>\n",
       "    <tr>\n",
       "      <th>0</th>\n",
       "      <td>a $5-10 million</td>\n",
       "      <td>ARCTIC SLOPE NATIVE ASSOCIATION, LTD.</td>\n",
       "      <td>7000 Uula St</td>\n",
       "      <td>BARROW</td>\n",
       "      <td>AK</td>\n",
       "      <td>99723.0</td>\n",
       "      <td>813920.0</td>\n",
       "      <td>Non-Profit Organization</td>\n",
       "      <td>Unanswered</td>\n",
       "      <td>Unanswered</td>\n",
       "      <td>Unanswered</td>\n",
       "      <td>Y</td>\n",
       "      <td>295.0</td>\n",
       "      <td>2020-04-14</td>\n",
       "      <td>National Cooperative Bank, National Association</td>\n",
       "      <td>AK - 00</td>\n",
       "    </tr>\n",
       "    <tr>\n",
       "      <th>1</th>\n",
       "      <td>a $5-10 million</td>\n",
       "      <td>CRUZ CONSTRUCTION INC</td>\n",
       "      <td>7000 East Palmer Wasilla Hwy</td>\n",
       "      <td>PALMER</td>\n",
       "      <td>AK</td>\n",
       "      <td>99645.0</td>\n",
       "      <td>238190.0</td>\n",
       "      <td>Subchapter S Corporation</td>\n",
       "      <td>Unanswered</td>\n",
       "      <td>Unanswered</td>\n",
       "      <td>Unanswered</td>\n",
       "      <td>NaN</td>\n",
       "      <td>215.0</td>\n",
       "      <td>2020-04-15</td>\n",
       "      <td>First National Bank Alaska</td>\n",
       "      <td>AK - 00</td>\n",
       "    </tr>\n",
       "    <tr>\n",
       "      <th>2</th>\n",
       "      <td>a $5-10 million</td>\n",
       "      <td>I. C. E. SERVICES, INC</td>\n",
       "      <td>2606 C Street</td>\n",
       "      <td>ANCHORAGE</td>\n",
       "      <td>AK</td>\n",
       "      <td>99503.0</td>\n",
       "      <td>722310.0</td>\n",
       "      <td>Corporation</td>\n",
       "      <td>Unanswered</td>\n",
       "      <td>Unanswered</td>\n",
       "      <td>Unanswered</td>\n",
       "      <td>NaN</td>\n",
       "      <td>367.0</td>\n",
       "      <td>2020-04-11</td>\n",
       "      <td>KeyBank National Association</td>\n",
       "      <td>AK - 00</td>\n",
       "    </tr>\n",
       "    <tr>\n",
       "      <th>3</th>\n",
       "      <td>a $5-10 million</td>\n",
       "      <td>KATMAI HEALTH SERVICES LLC</td>\n",
       "      <td>11001 O'MALLEY CENTRE DRIVE, SUITE 204</td>\n",
       "      <td>ANCHORAGE</td>\n",
       "      <td>AK</td>\n",
       "      <td>99515.0</td>\n",
       "      <td>621111.0</td>\n",
       "      <td>Limited  Liability Company(LLC)</td>\n",
       "      <td>Unanswered</td>\n",
       "      <td>Unanswered</td>\n",
       "      <td>Unanswered</td>\n",
       "      <td>NaN</td>\n",
       "      <td>0.0</td>\n",
       "      <td>2020-04-29</td>\n",
       "      <td>Truist Bank d/b/a Branch Banking &amp; Trust Co</td>\n",
       "      <td>AK - 00</td>\n",
       "    </tr>\n",
       "    <tr>\n",
       "      <th>4</th>\n",
       "      <td>a $5-10 million</td>\n",
       "      <td>MATANUSKA TELEPHONE ASSOCIATION</td>\n",
       "      <td>1740 S. CHUGACH ST</td>\n",
       "      <td>PALMER</td>\n",
       "      <td>AK</td>\n",
       "      <td>99645.0</td>\n",
       "      <td>517311.0</td>\n",
       "      <td>Cooperative</td>\n",
       "      <td>Unanswered</td>\n",
       "      <td>Unanswered</td>\n",
       "      <td>Unanswered</td>\n",
       "      <td>NaN</td>\n",
       "      <td>267.0</td>\n",
       "      <td>2020-06-10</td>\n",
       "      <td>CoBank ACB</td>\n",
       "      <td>AK - 00</td>\n",
       "    </tr>\n",
       "    <tr>\n",
       "      <th>5</th>\n",
       "      <td>a $5-10 million</td>\n",
       "      <td>NANA WORLEY, LLC</td>\n",
       "      <td>3700 Centerpoint Drive, 7th floor</td>\n",
       "      <td>ANCHORAGE</td>\n",
       "      <td>AK</td>\n",
       "      <td>99503.0</td>\n",
       "      <td>541330.0</td>\n",
       "      <td>Limited  Liability Company(LLC)</td>\n",
       "      <td>Unanswered</td>\n",
       "      <td>Unanswered</td>\n",
       "      <td>Unanswered</td>\n",
       "      <td>NaN</td>\n",
       "      <td>231.0</td>\n",
       "      <td>2020-05-19</td>\n",
       "      <td>First National Bank Alaska</td>\n",
       "      <td>AK - 00</td>\n",
       "    </tr>\n",
       "    <tr>\n",
       "      <th>6</th>\n",
       "      <td>a $5-10 million</td>\n",
       "      <td>NORTHERN ENERGY SERVICES, LLC</td>\n",
       "      <td>6250 South Airpark Place</td>\n",
       "      <td>ANCHORAGE</td>\n",
       "      <td>AK</td>\n",
       "      <td>99502.0</td>\n",
       "      <td>213112.0</td>\n",
       "      <td>Limited  Liability Company(LLC)</td>\n",
       "      <td>Unanswered</td>\n",
       "      <td>Unanswered</td>\n",
       "      <td>Unanswered</td>\n",
       "      <td>NaN</td>\n",
       "      <td>298.0</td>\n",
       "      <td>2020-04-06</td>\n",
       "      <td>Northrim Bank</td>\n",
       "      <td>AK - 00</td>\n",
       "    </tr>\n",
       "    <tr>\n",
       "      <th>7</th>\n",
       "      <td>a $5-10 million</td>\n",
       "      <td>SOUTH PENINSULA HOSPITAL INC</td>\n",
       "      <td>4300 BARTLETT STREET</td>\n",
       "      <td>HOMER</td>\n",
       "      <td>AK</td>\n",
       "      <td>99603.0</td>\n",
       "      <td>622110.0</td>\n",
       "      <td>Corporation</td>\n",
       "      <td>Unanswered</td>\n",
       "      <td>Unanswered</td>\n",
       "      <td>Unanswered</td>\n",
       "      <td>NaN</td>\n",
       "      <td>439.0</td>\n",
       "      <td>2020-04-14</td>\n",
       "      <td>First National Bank Alaska</td>\n",
       "      <td>AK - 00</td>\n",
       "    </tr>\n",
       "    <tr>\n",
       "      <th>8</th>\n",
       "      <td>a $5-10 million</td>\n",
       "      <td>TATITLEK TECHNOLOGIES, INC.</td>\n",
       "      <td>561 E. 36th Avenue</td>\n",
       "      <td>ANCHORAGE</td>\n",
       "      <td>AK</td>\n",
       "      <td>99503.0</td>\n",
       "      <td>518210.0</td>\n",
       "      <td>Corporation</td>\n",
       "      <td>Unanswered</td>\n",
       "      <td>Unanswered</td>\n",
       "      <td>Unanswered</td>\n",
       "      <td>NaN</td>\n",
       "      <td>361.0</td>\n",
       "      <td>2020-04-14</td>\n",
       "      <td>KeyBank National Association</td>\n",
       "      <td>AK - 00</td>\n",
       "    </tr>\n",
       "    <tr>\n",
       "      <th>9</th>\n",
       "      <td>a $5-10 million</td>\n",
       "      <td>TYONEK GLOBAL SERVICES, LLC</td>\n",
       "      <td>1689 C ST</td>\n",
       "      <td>ANCHORAGE</td>\n",
       "      <td>AK</td>\n",
       "      <td>99501.0</td>\n",
       "      <td>611420.0</td>\n",
       "      <td>Limited  Liability Company(LLC)</td>\n",
       "      <td>Unanswered</td>\n",
       "      <td>Unanswered</td>\n",
       "      <td>Unanswered</td>\n",
       "      <td>NaN</td>\n",
       "      <td>0.0</td>\n",
       "      <td>2020-04-30</td>\n",
       "      <td>BBVA USA</td>\n",
       "      <td>AK - 00</td>\n",
       "    </tr>\n",
       "  </tbody>\n",
       "</table>\n",
       "</div>"
      ],
      "text/plain": [
       "         LoanRange                           BusinessName  \\\n",
       "0  a $5-10 million  ARCTIC SLOPE NATIVE ASSOCIATION, LTD.   \n",
       "1  a $5-10 million                  CRUZ CONSTRUCTION INC   \n",
       "2  a $5-10 million                 I. C. E. SERVICES, INC   \n",
       "3  a $5-10 million             KATMAI HEALTH SERVICES LLC   \n",
       "4  a $5-10 million        MATANUSKA TELEPHONE ASSOCIATION   \n",
       "5  a $5-10 million                       NANA WORLEY, LLC   \n",
       "6  a $5-10 million          NORTHERN ENERGY SERVICES, LLC   \n",
       "7  a $5-10 million           SOUTH PENINSULA HOSPITAL INC   \n",
       "8  a $5-10 million            TATITLEK TECHNOLOGIES, INC.   \n",
       "9  a $5-10 million            TYONEK GLOBAL SERVICES, LLC   \n",
       "\n",
       "                                  Address       City State      Zip  \\\n",
       "0                            7000 Uula St     BARROW    AK  99723.0   \n",
       "1            7000 East Palmer Wasilla Hwy     PALMER    AK  99645.0   \n",
       "2                           2606 C Street  ANCHORAGE    AK  99503.0   \n",
       "3  11001 O'MALLEY CENTRE DRIVE, SUITE 204  ANCHORAGE    AK  99515.0   \n",
       "4                      1740 S. CHUGACH ST     PALMER    AK  99645.0   \n",
       "5       3700 Centerpoint Drive, 7th floor  ANCHORAGE    AK  99503.0   \n",
       "6                6250 South Airpark Place  ANCHORAGE    AK  99502.0   \n",
       "7                    4300 BARTLETT STREET      HOMER    AK  99603.0   \n",
       "8                      561 E. 36th Avenue  ANCHORAGE    AK  99503.0   \n",
       "9                               1689 C ST  ANCHORAGE    AK  99501.0   \n",
       "\n",
       "   NAICSCode                     BusinessType RaceEthnicity      Gender  \\\n",
       "0   813920.0          Non-Profit Organization    Unanswered  Unanswered   \n",
       "1   238190.0         Subchapter S Corporation    Unanswered  Unanswered   \n",
       "2   722310.0                      Corporation    Unanswered  Unanswered   \n",
       "3   621111.0  Limited  Liability Company(LLC)    Unanswered  Unanswered   \n",
       "4   517311.0                      Cooperative    Unanswered  Unanswered   \n",
       "5   541330.0  Limited  Liability Company(LLC)    Unanswered  Unanswered   \n",
       "6   213112.0  Limited  Liability Company(LLC)    Unanswered  Unanswered   \n",
       "7   622110.0                      Corporation    Unanswered  Unanswered   \n",
       "8   518210.0                      Corporation    Unanswered  Unanswered   \n",
       "9   611420.0  Limited  Liability Company(LLC)    Unanswered  Unanswered   \n",
       "\n",
       "      Veteran NonProfit  JobsRetained DateApproved  \\\n",
       "0  Unanswered         Y         295.0   2020-04-14   \n",
       "1  Unanswered       NaN         215.0   2020-04-15   \n",
       "2  Unanswered       NaN         367.0   2020-04-11   \n",
       "3  Unanswered       NaN           0.0   2020-04-29   \n",
       "4  Unanswered       NaN         267.0   2020-06-10   \n",
       "5  Unanswered       NaN         231.0   2020-05-19   \n",
       "6  Unanswered       NaN         298.0   2020-04-06   \n",
       "7  Unanswered       NaN         439.0   2020-04-14   \n",
       "8  Unanswered       NaN         361.0   2020-04-14   \n",
       "9  Unanswered       NaN           0.0   2020-04-30   \n",
       "\n",
       "                                            Lender       CD  \n",
       "0  National Cooperative Bank, National Association  AK - 00  \n",
       "1                       First National Bank Alaska  AK - 00  \n",
       "2                     KeyBank National Association  AK - 00  \n",
       "3      Truist Bank d/b/a Branch Banking & Trust Co  AK - 00  \n",
       "4                                       CoBank ACB  AK - 00  \n",
       "5                       First National Bank Alaska  AK - 00  \n",
       "6                                    Northrim Bank  AK - 00  \n",
       "7                       First National Bank Alaska  AK - 00  \n",
       "8                     KeyBank National Association  AK - 00  \n",
       "9                                         BBVA USA  AK - 00  "
      ]
     },
     "execution_count": 2,
     "metadata": {},
     "output_type": "execute_result"
    }
   ],
   "source": [
    "df = pd.read_csv('PPP_ORIGINAL.csv', parse_dates=[\"DateApproved\"]).drop_duplicates()\n",
    "df.head(10)"
   ]
  },
  {
   "cell_type": "markdown",
   "metadata": {},
   "source": [
    "### How much of this business are non-profitable?"
   ]
  },
  {
   "cell_type": "code",
   "execution_count": 3,
   "metadata": {},
   "outputs": [
    {
     "data": {
      "text/plain": [
       "39293"
      ]
     },
     "execution_count": 3,
     "metadata": {},
     "output_type": "execute_result"
    }
   ],
   "source": [
    "df_temp = df.dropna()\n",
    "df_temp['NonProfit'].count()"
   ]
  },
  {
   "cell_type": "markdown",
   "metadata": {},
   "source": [
    "### What is the state with higher number of payrolls aproved? "
   ]
  },
  {
   "cell_type": "markdown",
   "metadata": {},
   "source": [
    "##### Task one: group by State and count data approved"
   ]
  },
  {
   "cell_type": "code",
   "execution_count": 4,
   "metadata": {
    "scrolled": true
   },
   "outputs": [
    {
     "data": {
      "text/plain": [
       "State\n",
       "AK     1652\n",
       "AL     7872\n",
       "AR     4256\n",
       "AS       19\n",
       "AZ    11326\n",
       "CA    87686\n",
       "CO    13385\n",
       "CT     8595\n",
       "DC     2806\n",
       "DE     2072\n",
       "FL    42207\n",
       "GA    18291\n",
       "GU      296\n",
       "HI     3228\n",
       "IA     5936\n",
       "ID     3313\n",
       "IL    27412\n",
       "IN    11853\n",
       "KS     5858\n",
       "KY     6438\n",
       "LA     9060\n",
       "MA    18252\n",
       "MD    12919\n",
       "ME     2840\n",
       "MI    19970\n",
       "MN    13719\n",
       "MO    11459\n",
       "MP       56\n",
       "MS     3890\n",
       "MT     2196\n",
       "NC    16324\n",
       "ND     2178\n",
       "NE     4179\n",
       "NH     3441\n",
       "NJ    21857\n",
       "NM     3002\n",
       "NV     5542\n",
       "NY    46887\n",
       "OH    22888\n",
       "OK     6848\n",
       "OR     9223\n",
       "PA    26095\n",
       "PR     1941\n",
       "RI     2453\n",
       "SC     7615\n",
       "SD     1944\n",
       "TN    11269\n",
       "TX    52149\n",
       "UT     6737\n",
       "VA    16178\n",
       "VI      172\n",
       "VT     1542\n",
       "WA    15849\n",
       "WI    12355\n",
       "WV     2300\n",
       "WY     1363\n",
       "XX       16\n",
       "Name: Number of Loans Approved, dtype: int64"
      ]
     },
     "execution_count": 4,
     "metadata": {},
     "output_type": "execute_result"
    }
   ],
   "source": [
    "df_temp = df.groupby(by='State').count()\n",
    "df_temp = df_temp.rename({'DateApproved': 'Number of Loans Approved'}, axis='columns')\n",
    "df_temp['Number of Loans Approved']"
   ]
  },
  {
   "cell_type": "markdown",
   "metadata": {},
   "source": [
    "##### Task two: sort values and graphic them"
   ]
  },
  {
   "cell_type": "code",
   "execution_count": 5,
   "metadata": {
    "scrolled": false
   },
   "outputs": [
    {
     "data": {
      "text/plain": [
       "State\n",
       "CA    87686\n",
       "TX    52149\n",
       "NY    46887\n",
       "FL    42207\n",
       "IL    27412\n",
       "PA    26095\n",
       "OH    22888\n",
       "NJ    21857\n",
       "MI    19970\n",
       "GA    18291\n",
       "Name: Number of Loans Approved, dtype: int64"
      ]
     },
     "execution_count": 5,
     "metadata": {},
     "output_type": "execute_result"
    }
   ],
   "source": [
    "df_temp = df_temp['Number of Loans Approved'].sort_values(ascending=False)\n",
    "df_temp = df_temp.head(10)\n",
    "df_temp"
   ]
  },
  {
   "cell_type": "markdown",
   "metadata": {},
   "source": [
    "###### Creating a bin for graphic"
   ]
  },
  {
   "cell_type": "code",
   "execution_count": 6,
   "metadata": {},
   "outputs": [
    {
     "data": {
      "text/plain": [
       "['CA', 'TX', 'NY', 'FL', 'IL', 'PA', 'OH', 'NJ', 'MI', 'GA']"
      ]
     },
     "execution_count": 6,
     "metadata": {},
     "output_type": "execute_result"
    }
   ],
   "source": [
    "states = df_temp.index\n",
    "statesList = []\n",
    "\n",
    "for state in states:\n",
    "    statesList.append(state)\n",
    "        \n",
    "statesList"
   ]
  },
  {
   "cell_type": "code",
   "execution_count": 7,
   "metadata": {},
   "outputs": [
    {
     "data": {
      "image/png": "[encoded data removed]",
      "text/plain": [
       "<Figure size 864x360 with 1 Axes>"
      ]
     },
     "metadata": {
      "needs_background": "light"
     },
     "output_type": "display_data"
    }
   ],
   "source": [
    "plt.figure(figsize=(12,5))\n",
    "plt.bar(statesList, df_temp, width=.80)\n",
    "plt.title('States with highers numbers of loans', fontsize=18)\n",
    "plt.xlabel(\"States\")\n",
    "plt.ylabel(\"Number of loans\")\n",
    "plt.show()"
   ]
  },
  {
   "cell_type": "markdown",
   "metadata": {},
   "source": [
    "### How many values of loans were disponible? "
   ]
  },
  {
   "cell_type": "markdown",
   "metadata": {},
   "source": [
    "##### Making a count of values from column LoanRange"
   ]
  },
  {
   "cell_type": "code",
   "execution_count": 8,
   "metadata": {},
   "outputs": [
    {
     "data": {
      "text/plain": [
       "['e $150,000-350,000',\n",
       " 'd $350,000-1 million',\n",
       " 'c $1-2 million',\n",
       " 'b $2-5 million',\n",
       " 'a $5-10 million']"
      ]
     },
     "execution_count": 8,
     "metadata": {},
     "output_type": "execute_result"
    }
   ],
   "source": [
    "df_temp2 = df['LoanRange'].drop_duplicates().sort_values(ascending=False)\n",
    "labels = list(df_temp2)\n",
    "labels"
   ]
  },
  {
   "cell_type": "code",
   "execution_count": 9,
   "metadata": {},
   "outputs": [
    {
     "data": {
      "text/plain": [
       "e $150,000-350,000      379048\n",
       "d $350,000-1 million    199455\n",
       "c $1-2 million           53029\n",
       "b $2-5 million           24837\n",
       "a $5-10 million           4840\n",
       "Name: LoanRange, dtype: int64"
      ]
     },
     "execution_count": 9,
     "metadata": {},
     "output_type": "execute_result"
    }
   ],
   "source": [
    "values = df['LoanRange'].value_counts()\n",
    "values"
   ]
  },
  {
   "cell_type": "code",
   "execution_count": 10,
   "metadata": {},
   "outputs": [
    {
     "data": {
      "image/png": "[encoded data removed]",
      "text/plain": [
       "<Figure size 864x432 with 1 Axes>"
      ]
     },
     "metadata": {
      "needs_background": "light"
     },
     "output_type": "display_data"
    }
   ],
   "source": [
    "plt.figure(figsize=(12,6))\n",
    "plt.title('Loans per Range', fontdict={'fontname': 'Times New Roman', 'fontsize': 18})\n",
    "plt.bar(labels, values) # x -> labels, y -> values\n",
    "plt.xlabel('Values of Loan')\n",
    "plt.ylabel('Total of Loans')\n",
    "plt.show()"
   ]
  },
  {
   "cell_type": "code",
   "execution_count": 11,
   "metadata": {
    "scrolled": true
   },
   "outputs": [
    {
     "data": {
      "image/png": "[encoded data removed]",
      "text/plain": [
       "<Figure size 432x288 with 1 Axes>"
      ]
     },
     "metadata": {},
     "output_type": "display_data"
    }
   ],
   "source": [
    "plt.pie(values, labels=labels, autopct='%1.1f%%')\n",
    "plt.show()"
   ]
  },
  {
   "cell_type": "markdown",
   "metadata": {},
   "source": [
    "### Number of jobs retained"
   ]
  },
  {
   "cell_type": "code",
   "execution_count": 12,
   "metadata": {},
   "outputs": [
    {
     "data": {
      "text/html": [
       "<div>\n",
       "<style scoped>\n",
       "    .dataframe tbody tr th:only-of-type {\n",
       "        vertical-align: middle;\n",
       "    }\n",
       "\n",
       "    .dataframe tbody tr th {\n",
       "        vertical-align: top;\n",
       "    }\n",
       "\n",
       "    .dataframe thead th {\n",
       "        text-align: right;\n",
       "    }\n",
       "</style>\n",
       "<table border=\"1\" class=\"dataframe\">\n",
       "  <thead>\n",
       "    <tr style=\"text-align: right;\">\n",
       "      <th></th>\n",
       "      <th>LoanRange</th>\n",
       "      <th>BusinessName</th>\n",
       "      <th>Address</th>\n",
       "      <th>City</th>\n",
       "      <th>State</th>\n",
       "      <th>Zip</th>\n",
       "      <th>NAICSCode</th>\n",
       "      <th>BusinessType</th>\n",
       "      <th>RaceEthnicity</th>\n",
       "      <th>Gender</th>\n",
       "      <th>Veteran</th>\n",
       "      <th>NonProfit</th>\n",
       "      <th>JobsRetained</th>\n",
       "      <th>DateApproved</th>\n",
       "      <th>Lender</th>\n",
       "      <th>CD</th>\n",
       "    </tr>\n",
       "  </thead>\n",
       "  <tbody>\n",
       "  </tbody>\n",
       "</table>\n",
       "</div>"
      ],
      "text/plain": [
       "Empty DataFrame\n",
       "Columns: [LoanRange, BusinessName, Address, City, State, Zip, NAICSCode, BusinessType, RaceEthnicity, Gender, Veteran, NonProfit, JobsRetained, DateApproved, Lender, CD]\n",
       "Index: []"
      ]
     },
     "execution_count": 12,
     "metadata": {},
     "output_type": "execute_result"
    }
   ],
   "source": [
    "df.head(0)"
   ]
  },
  {
   "cell_type": "code",
   "execution_count": 13,
   "metadata": {
    "scrolled": true
   },
   "outputs": [
    {
     "data": {
      "text/plain": [
       "389.66627050154506"
      ]
     },
     "execution_count": 13,
     "metadata": {},
     "output_type": "execute_result"
    }
   ],
   "source": [
    "df['JobsRetained'][df.JobsRetained != 0][df.LoanRange == 'a $5-10 million'].dropna().mean()"
   ]
  },
  {
   "cell_type": "markdown",
   "metadata": {},
   "source": [
    "##### How many jobs were retained based on states?"
   ]
  },
  {
   "cell_type": "code",
   "execution_count": 14,
   "metadata": {},
   "outputs": [
    {
     "data": {
      "text/html": [
       "<div>\n",
       "<style scoped>\n",
       "    .dataframe tbody tr th:only-of-type {\n",
       "        vertical-align: middle;\n",
       "    }\n",
       "\n",
       "    .dataframe tbody tr th {\n",
       "        vertical-align: top;\n",
       "    }\n",
       "\n",
       "    .dataframe thead th {\n",
       "        text-align: right;\n",
       "    }\n",
       "</style>\n",
       "<table border=\"1\" class=\"dataframe\">\n",
       "  <thead>\n",
       "    <tr style=\"text-align: right;\">\n",
       "      <th></th>\n",
       "      <th>LoanRange</th>\n",
       "      <th>BusinessName</th>\n",
       "      <th>Address</th>\n",
       "      <th>City</th>\n",
       "      <th>State</th>\n",
       "      <th>Zip</th>\n",
       "      <th>NAICSCode</th>\n",
       "      <th>BusinessType</th>\n",
       "      <th>RaceEthnicity</th>\n",
       "      <th>Gender</th>\n",
       "      <th>Veteran</th>\n",
       "      <th>NonProfit</th>\n",
       "      <th>JobsRetained</th>\n",
       "      <th>DateApproved</th>\n",
       "      <th>Lender</th>\n",
       "      <th>CD</th>\n",
       "    </tr>\n",
       "  </thead>\n",
       "  <tbody>\n",
       "    <tr>\n",
       "      <th>0</th>\n",
       "      <td>a $5-10 million</td>\n",
       "      <td>ARCTIC SLOPE NATIVE ASSOCIATION, LTD.</td>\n",
       "      <td>7000 Uula St</td>\n",
       "      <td>BARROW</td>\n",
       "      <td>AK</td>\n",
       "      <td>99723.0</td>\n",
       "      <td>813920.0</td>\n",
       "      <td>Non-Profit Organization</td>\n",
       "      <td>Unanswered</td>\n",
       "      <td>Unanswered</td>\n",
       "      <td>Unanswered</td>\n",
       "      <td>Y</td>\n",
       "      <td>295.0</td>\n",
       "      <td>2020-04-14</td>\n",
       "      <td>National Cooperative Bank, National Association</td>\n",
       "      <td>AK - 00</td>\n",
       "    </tr>\n",
       "    <tr>\n",
       "      <th>25</th>\n",
       "      <td>b $2-5 million</td>\n",
       "      <td>ANCHORAGE COMMUNITY MENTAL HEALTH SERVICES, INC.</td>\n",
       "      <td>4020 FOLKER STREET</td>\n",
       "      <td>ANCHORAGE</td>\n",
       "      <td>AK</td>\n",
       "      <td>99508.0</td>\n",
       "      <td>621498.0</td>\n",
       "      <td>Non-Profit Organization</td>\n",
       "      <td>Unanswered</td>\n",
       "      <td>Unanswered</td>\n",
       "      <td>Unanswered</td>\n",
       "      <td>Y</td>\n",
       "      <td>168.0</td>\n",
       "      <td>2020-04-09</td>\n",
       "      <td>First National Bank Alaska</td>\n",
       "      <td>AK - 00</td>\n",
       "    </tr>\n",
       "    <tr>\n",
       "      <th>39</th>\n",
       "      <td>b $2-5 million</td>\n",
       "      <td>FAMILY CENTERED SERVICES OF ALASKA, INC.</td>\n",
       "      <td>1825 Marika Rd.</td>\n",
       "      <td>FAIRBANKS</td>\n",
       "      <td>AK</td>\n",
       "      <td>99709.0</td>\n",
       "      <td>621420.0</td>\n",
       "      <td>Non-Profit Organization</td>\n",
       "      <td>Unanswered</td>\n",
       "      <td>Male Owned</td>\n",
       "      <td>Unanswered</td>\n",
       "      <td>Y</td>\n",
       "      <td>145.0</td>\n",
       "      <td>2020-04-03</td>\n",
       "      <td>Northrim Bank</td>\n",
       "      <td>AK - 00</td>\n",
       "    </tr>\n",
       "  </tbody>\n",
       "</table>\n",
       "</div>"
      ],
      "text/plain": [
       "          LoanRange                                      BusinessName  \\\n",
       "0   a $5-10 million             ARCTIC SLOPE NATIVE ASSOCIATION, LTD.   \n",
       "25   b $2-5 million  ANCHORAGE COMMUNITY MENTAL HEALTH SERVICES, INC.   \n",
       "39   b $2-5 million          FAMILY CENTERED SERVICES OF ALASKA, INC.   \n",
       "\n",
       "               Address       City State      Zip  NAICSCode  \\\n",
       "0         7000 Uula St     BARROW    AK  99723.0   813920.0   \n",
       "25  4020 FOLKER STREET  ANCHORAGE    AK  99508.0   621498.0   \n",
       "39     1825 Marika Rd.  FAIRBANKS    AK  99709.0   621420.0   \n",
       "\n",
       "               BusinessType RaceEthnicity      Gender     Veteran NonProfit  \\\n",
       "0   Non-Profit Organization    Unanswered  Unanswered  Unanswered         Y   \n",
       "25  Non-Profit Organization    Unanswered  Unanswered  Unanswered         Y   \n",
       "39  Non-Profit Organization    Unanswered  Male Owned  Unanswered         Y   \n",
       "\n",
       "    JobsRetained DateApproved  \\\n",
       "0          295.0   2020-04-14   \n",
       "25         168.0   2020-04-09   \n",
       "39         145.0   2020-04-03   \n",
       "\n",
       "                                             Lender       CD  \n",
       "0   National Cooperative Bank, National Association  AK - 00  \n",
       "25                       First National Bank Alaska  AK - 00  \n",
       "39                                    Northrim Bank  AK - 00  "
      ]
     },
     "execution_count": 14,
     "metadata": {},
     "output_type": "execute_result"
    }
   ],
   "source": [
    "df_temp = df.dropna()\n",
    "df_temp.head(3)"
   ]
  },
  {
   "cell_type": "code",
   "execution_count": 15,
   "metadata": {
    "scrolled": false
   },
   "outputs": [
    {
     "data": {
      "text/plain": [
       "e $150,000-350,000      379048\n",
       "d $350,000-1 million    199455\n",
       "c $1-2 million           53029\n",
       "b $2-5 million           24837\n",
       "a $5-10 million           4840\n",
       "Name: LoanRange, dtype: int64"
      ]
     },
     "execution_count": 15,
     "metadata": {},
     "output_type": "execute_result"
    }
   ],
   "source": [
    "df_temp = df_temp.groupby(by='State').sum().sort_values(by='JobsRetained', ascending=False)\n",
    "\n",
    "labels_state = list(df_temp.head(10).index)\n",
    "values_jobs = list(df_temp['JobsRetained'].head(10))\n",
    "\n",
    "values"
   ]
  },
  {
   "cell_type": "code",
   "execution_count": 42,
   "metadata": {},
   "outputs": [
    {
     "data": {
      "text/plain": [
       "State\n",
       "CA    324187.0\n",
       "NY    271449.0\n",
       "TX    189024.0\n",
       "PA    146410.0\n",
       "IL    141241.0\n",
       "FL    139672.0\n",
       "OH    126452.0\n",
       "MA     97802.0\n",
       "MN     86760.0\n",
       "MI     83666.0\n",
       "Name: JobsRetained, dtype: float64"
      ]
     },
     "execution_count": 42,
     "metadata": {},
     "output_type": "execute_result"
    }
   ],
   "source": [
    "states = df_temp.head(10).index\n",
    "jobs = df_temp['JobsRetained'].head(10)\n",
    "jobs"
   ]
  },
  {
   "cell_type": "code",
   "execution_count": 43,
   "metadata": {},
   "outputs": [
    {
     "data": {
      "image/png": "[encoded data removed]",
      "text/plain": [
       "<Figure size 432x288 with 1 Axes>"
      ]
     },
     "metadata": {
      "needs_background": "light"
     },
     "output_type": "display_data"
    }
   ],
   "source": [
    "fig, ax = plt.subplots()\n",
    "\n",
    "ax.bar(states, jobs)\n",
    "\n",
    "ax.set_title('Number of jobs retained for state')\n",
    "ax.set_xlabel('States')\n",
    "ax.set_ylabel('Number of jobs')\n",
    "\n",
    "plt.show()"
   ]
  },
  {
   "cell_type": "markdown",
   "metadata": {},
   "source": [
    "##### Converting strings to dates"
   ]
  },
  {
   "cell_type": "code",
   "execution_count": 17,
   "metadata": {},
   "outputs": [],
   "source": [
    "def new_data(dateStr):\n",
    "    return pd.to_datetime(dateStr)\n",
    "\n",
    "df['DateApproved'] = df['DateApproved'].apply(new_data)"
   ]
  },
  {
   "cell_type": "markdown",
   "metadata": {},
   "source": [
    "### Creating a graphic of lines with jobs retained"
   ]
  },
  {
   "cell_type": "code",
   "execution_count": 18,
   "metadata": {},
   "outputs": [
    {
     "data": {
      "text/plain": [
       "39      2020-04-03\n",
       "17      2020-04-04\n",
       "30      2020-04-05\n",
       "6       2020-04-06\n",
       "51      2020-04-07\n",
       "           ...    \n",
       "845     2020-06-26\n",
       "2434    2020-06-27\n",
       "11739   2020-06-28\n",
       "81      2020-06-29\n",
       "287     2020-06-30\n",
       "Name: DateApproved, Length: 79, dtype: datetime64[ns]"
      ]
     },
     "execution_count": 18,
     "metadata": {},
     "output_type": "execute_result"
    }
   ],
   "source": [
    "labelsData = df['DateApproved'].drop_duplicates()\n",
    "labelsData = labelsData.sort_values(ascending=True)\n",
    "labelsData"
   ]
  },
  {
   "cell_type": "code",
   "execution_count": 19,
   "metadata": {},
   "outputs": [],
   "source": [
    "valuesData = df.groupby('DateApproved').sum()\n",
    "valuesData = valuesData['JobsRetained']"
   ]
  },
  {
   "cell_type": "markdown",
   "metadata": {},
   "source": [
    "#### First try with plot from plt"
   ]
  },
  {
   "cell_type": "code",
   "execution_count": 20,
   "metadata": {},
   "outputs": [
    {
     "data": {
      "image/png": "[encoded data removed]",
      "text/plain": [
       "<Figure size 864x360 with 1 Axes>"
      ]
     },
     "metadata": {
      "needs_background": "light"
     },
     "output_type": "display_data"
    }
   ],
   "source": [
    "plt.figure(figsize=(12,5))\n",
    "plt.plot(labelsData, valuesData)\n",
    "plt.title(\"Jobs retained across time\", fontdict={'fontname': 'Comic Sans MS', 'fontsize': 15})\n",
    "plt.xticks(rotation=90, fontstretch='ultra-expanded')\n",
    "plt.xlabel(\"Data\")\n",
    "plt.ylabel(\"Jobs Retained\")\n",
    "plt.show()"
   ]
  },
  {
   "cell_type": "markdown",
   "metadata": {},
   "source": [
    "#### Second try with pivot table from pandas"
   ]
  },
  {
   "cell_type": "markdown",
   "metadata": {},
   "source": [
    "### Creating a second dataframe with dates as index"
   ]
  },
  {
   "cell_type": "code",
   "execution_count": 21,
   "metadata": {},
   "outputs": [],
   "source": [
    "df_dates = pd.read_csv('PPP_ORIGINAL.csv', parse_dates=[\"DateApproved\"], index_col='DateApproved')\n",
    "df_dates = df_dates.sort_values(by='DateApproved', ascending=True)"
   ]
  },
  {
   "cell_type": "code",
   "execution_count": 22,
   "metadata": {
    "scrolled": false
   },
   "outputs": [
    {
     "data": {
      "text/html": [
       "<div>\n",
       "<style scoped>\n",
       "    .dataframe tbody tr th:only-of-type {\n",
       "        vertical-align: middle;\n",
       "    }\n",
       "\n",
       "    .dataframe tbody tr th {\n",
       "        vertical-align: top;\n",
       "    }\n",
       "\n",
       "    .dataframe thead th {\n",
       "        text-align: right;\n",
       "    }\n",
       "</style>\n",
       "<table border=\"1\" class=\"dataframe\">\n",
       "  <thead>\n",
       "    <tr style=\"text-align: right;\">\n",
       "      <th></th>\n",
       "      <th>LoanRange</th>\n",
       "      <th>BusinessName</th>\n",
       "      <th>Address</th>\n",
       "      <th>City</th>\n",
       "      <th>State</th>\n",
       "      <th>Zip</th>\n",
       "      <th>NAICSCode</th>\n",
       "      <th>BusinessType</th>\n",
       "      <th>RaceEthnicity</th>\n",
       "      <th>Gender</th>\n",
       "      <th>Veteran</th>\n",
       "      <th>NonProfit</th>\n",
       "      <th>JobsRetained</th>\n",
       "      <th>Lender</th>\n",
       "      <th>CD</th>\n",
       "    </tr>\n",
       "    <tr>\n",
       "      <th>DateApproved</th>\n",
       "      <th></th>\n",
       "      <th></th>\n",
       "      <th></th>\n",
       "      <th></th>\n",
       "      <th></th>\n",
       "      <th></th>\n",
       "      <th></th>\n",
       "      <th></th>\n",
       "      <th></th>\n",
       "      <th></th>\n",
       "      <th></th>\n",
       "      <th></th>\n",
       "      <th></th>\n",
       "      <th></th>\n",
       "      <th></th>\n",
       "    </tr>\n",
       "  </thead>\n",
       "  <tbody>\n",
       "    <tr>\n",
       "      <th>2020-04-03</th>\n",
       "      <td>b $2-5 million</td>\n",
       "      <td>KIDWELL, INC.</td>\n",
       "      <td>3333 FOLKWAYS CIR</td>\n",
       "      <td>LINCOLN</td>\n",
       "      <td>NE</td>\n",
       "      <td>68504.0</td>\n",
       "      <td>238210.0</td>\n",
       "      <td>Corporation</td>\n",
       "      <td>Unanswered</td>\n",
       "      <td>Unanswered</td>\n",
       "      <td>Unanswered</td>\n",
       "      <td>NaN</td>\n",
       "      <td>221.0</td>\n",
       "      <td>NebraskaLand National Bank</td>\n",
       "      <td>NE - 01</td>\n",
       "    </tr>\n",
       "    <tr>\n",
       "      <th>2020-04-03</th>\n",
       "      <td>e $150,000-350,000</td>\n",
       "      <td>CONLEY GROUP, INC.</td>\n",
       "      <td>2867 104th St.</td>\n",
       "      <td>URBANDALE</td>\n",
       "      <td>IA</td>\n",
       "      <td>50322.0</td>\n",
       "      <td>561612.0</td>\n",
       "      <td>Corporation</td>\n",
       "      <td>Unanswered</td>\n",
       "      <td>Male Owned</td>\n",
       "      <td>Unanswered</td>\n",
       "      <td>NaN</td>\n",
       "      <td>26.0</td>\n",
       "      <td>Success Bank</td>\n",
       "      <td>IA - 03</td>\n",
       "    </tr>\n",
       "    <tr>\n",
       "      <th>2020-04-03</th>\n",
       "      <td>e $150,000-350,000</td>\n",
       "      <td>ARORA'S FAMILY INC</td>\n",
       "      <td>1409 E. Ohio St. Clinton</td>\n",
       "      <td>CLINTON</td>\n",
       "      <td>MO</td>\n",
       "      <td>64735.0</td>\n",
       "      <td>445120.0</td>\n",
       "      <td>Corporation</td>\n",
       "      <td>Unanswered</td>\n",
       "      <td>Unanswered</td>\n",
       "      <td>Unanswered</td>\n",
       "      <td>NaN</td>\n",
       "      <td>43.0</td>\n",
       "      <td>Legacy Bank &amp; Trust Company</td>\n",
       "      <td>MO - 04</td>\n",
       "    </tr>\n",
       "    <tr>\n",
       "      <th>2020-04-03</th>\n",
       "      <td>e $150,000-350,000</td>\n",
       "      <td>BROX, INC.</td>\n",
       "      <td>4101 Mormon Coulee Rd</td>\n",
       "      <td>LA CROSSE</td>\n",
       "      <td>WI</td>\n",
       "      <td>54601.0</td>\n",
       "      <td>722513.0</td>\n",
       "      <td>Limited  Liability Company(LLC)</td>\n",
       "      <td>White</td>\n",
       "      <td>Male Owned</td>\n",
       "      <td>Non-Veteran</td>\n",
       "      <td>NaN</td>\n",
       "      <td>51.0</td>\n",
       "      <td>River Bank</td>\n",
       "      <td>WI - 03</td>\n",
       "    </tr>\n",
       "    <tr>\n",
       "      <th>2020-04-03</th>\n",
       "      <td>d $350,000-1 million</td>\n",
       "      <td>JW MANAGEMENT GROUP INC</td>\n",
       "      <td>3798 E PARKVIEW DR</td>\n",
       "      <td>GILBERT</td>\n",
       "      <td>AZ</td>\n",
       "      <td>85295.0</td>\n",
       "      <td>812112.0</td>\n",
       "      <td>Corporation</td>\n",
       "      <td>White</td>\n",
       "      <td>Male Owned</td>\n",
       "      <td>Non-Veteran</td>\n",
       "      <td>NaN</td>\n",
       "      <td>66.0</td>\n",
       "      <td>Unison Bank</td>\n",
       "      <td>AZ - 05</td>\n",
       "    </tr>\n",
       "    <tr>\n",
       "      <th>...</th>\n",
       "      <td>...</td>\n",
       "      <td>...</td>\n",
       "      <td>...</td>\n",
       "      <td>...</td>\n",
       "      <td>...</td>\n",
       "      <td>...</td>\n",
       "      <td>...</td>\n",
       "      <td>...</td>\n",
       "      <td>...</td>\n",
       "      <td>...</td>\n",
       "      <td>...</td>\n",
       "      <td>...</td>\n",
       "      <td>...</td>\n",
       "      <td>...</td>\n",
       "      <td>...</td>\n",
       "    </tr>\n",
       "    <tr>\n",
       "      <th>2020-06-30</th>\n",
       "      <td>a $5-10 million</td>\n",
       "      <td>GOSIGER HOLDINGS, INC</td>\n",
       "      <td>108 McDonough St</td>\n",
       "      <td>DAYTON</td>\n",
       "      <td>OH</td>\n",
       "      <td>45402.0</td>\n",
       "      <td>423830.0</td>\n",
       "      <td>Corporation</td>\n",
       "      <td>Unanswered</td>\n",
       "      <td>Unanswered</td>\n",
       "      <td>Unanswered</td>\n",
       "      <td>NaN</td>\n",
       "      <td>484.0</td>\n",
       "      <td>KeyBank National Association</td>\n",
       "      <td>OH - 10</td>\n",
       "    </tr>\n",
       "    <tr>\n",
       "      <th>2020-06-30</th>\n",
       "      <td>e $150,000-350,000</td>\n",
       "      <td>WORLDWIDE DISTRIBUTION SYSTEMS USA</td>\n",
       "      <td>STE 200 32985 HAMILTON CT</td>\n",
       "      <td>FARMINGTN HLS</td>\n",
       "      <td>MI</td>\n",
       "      <td>48334.0</td>\n",
       "      <td>423620.0</td>\n",
       "      <td>Limited  Liability Company(LLC)</td>\n",
       "      <td>Unanswered</td>\n",
       "      <td>Unanswered</td>\n",
       "      <td>Unanswered</td>\n",
       "      <td>NaN</td>\n",
       "      <td>15.0</td>\n",
       "      <td>Cross River Bank</td>\n",
       "      <td>MI - 09</td>\n",
       "    </tr>\n",
       "    <tr>\n",
       "      <th>2020-06-30</th>\n",
       "      <td>e $150,000-350,000</td>\n",
       "      <td>THE SOLAR QUOTE LLC</td>\n",
       "      <td>4422 N Pershing Ave Suite D22</td>\n",
       "      <td>STOCKTON</td>\n",
       "      <td>CA</td>\n",
       "      <td>95207.0</td>\n",
       "      <td>238210.0</td>\n",
       "      <td>Limited  Liability Company(LLC)</td>\n",
       "      <td>Unanswered</td>\n",
       "      <td>Unanswered</td>\n",
       "      <td>Unanswered</td>\n",
       "      <td>NaN</td>\n",
       "      <td>12.0</td>\n",
       "      <td>Customers Bank</td>\n",
       "      <td>CA - 09</td>\n",
       "    </tr>\n",
       "    <tr>\n",
       "      <th>2020-06-30</th>\n",
       "      <td>c $1-2 million</td>\n",
       "      <td>BAROCO CORPORATION</td>\n",
       "      <td>136 West St Suite 03</td>\n",
       "      <td>NORTHAMPTON</td>\n",
       "      <td>MA</td>\n",
       "      <td>1060.0</td>\n",
       "      <td>624120.0</td>\n",
       "      <td>Corporation</td>\n",
       "      <td>Unanswered</td>\n",
       "      <td>Unanswered</td>\n",
       "      <td>Unanswered</td>\n",
       "      <td>NaN</td>\n",
       "      <td>162.0</td>\n",
       "      <td>Customers Bank</td>\n",
       "      <td>MA - 02</td>\n",
       "    </tr>\n",
       "    <tr>\n",
       "      <th>2020-06-30</th>\n",
       "      <td>e $150,000-350,000</td>\n",
       "      <td>KUHNS ENTERPRISES</td>\n",
       "      <td>5753 E. SANTA ANA CANYON RD SUITE G281</td>\n",
       "      <td>ANAHEIM</td>\n",
       "      <td>CA</td>\n",
       "      <td>92807.0</td>\n",
       "      <td>721110.0</td>\n",
       "      <td>Corporation</td>\n",
       "      <td>Unanswered</td>\n",
       "      <td>Unanswered</td>\n",
       "      <td>Unanswered</td>\n",
       "      <td>NaN</td>\n",
       "      <td>0.0</td>\n",
       "      <td>Wells Fargo Bank, National Association</td>\n",
       "      <td>CA - 39</td>\n",
       "    </tr>\n",
       "  </tbody>\n",
       "</table>\n",
       "<p>620712 rows × 15 columns</p>\n",
       "</div>"
      ],
      "text/plain": [
       "                         LoanRange                        BusinessName  \\\n",
       "DateApproved                                                             \n",
       "2020-04-03          b $2-5 million                       KIDWELL, INC.   \n",
       "2020-04-03      e $150,000-350,000                  CONLEY GROUP, INC.   \n",
       "2020-04-03      e $150,000-350,000                  ARORA'S FAMILY INC   \n",
       "2020-04-03      e $150,000-350,000                          BROX, INC.   \n",
       "2020-04-03    d $350,000-1 million             JW MANAGEMENT GROUP INC   \n",
       "...                            ...                                 ...   \n",
       "2020-06-30         a $5-10 million               GOSIGER HOLDINGS, INC   \n",
       "2020-06-30      e $150,000-350,000  WORLDWIDE DISTRIBUTION SYSTEMS USA   \n",
       "2020-06-30      e $150,000-350,000                 THE SOLAR QUOTE LLC   \n",
       "2020-06-30          c $1-2 million                  BAROCO CORPORATION   \n",
       "2020-06-30      e $150,000-350,000                   KUHNS ENTERPRISES   \n",
       "\n",
       "                                             Address           City State  \\\n",
       "DateApproved                                                                \n",
       "2020-04-03                         3333 FOLKWAYS CIR        LINCOLN    NE   \n",
       "2020-04-03                            2867 104th St.      URBANDALE    IA   \n",
       "2020-04-03                  1409 E. Ohio St. Clinton        CLINTON    MO   \n",
       "2020-04-03                     4101 Mormon Coulee Rd      LA CROSSE    WI   \n",
       "2020-04-03                        3798 E PARKVIEW DR        GILBERT    AZ   \n",
       "...                                              ...            ...   ...   \n",
       "2020-06-30                          108 McDonough St         DAYTON    OH   \n",
       "2020-06-30                 STE 200 32985 HAMILTON CT  FARMINGTN HLS    MI   \n",
       "2020-06-30             4422 N Pershing Ave Suite D22       STOCKTON    CA   \n",
       "2020-06-30                      136 West St Suite 03    NORTHAMPTON    MA   \n",
       "2020-06-30    5753 E. SANTA ANA CANYON RD SUITE G281        ANAHEIM    CA   \n",
       "\n",
       "                  Zip  NAICSCode                     BusinessType  \\\n",
       "DateApproved                                                        \n",
       "2020-04-03    68504.0   238210.0                      Corporation   \n",
       "2020-04-03    50322.0   561612.0                      Corporation   \n",
       "2020-04-03    64735.0   445120.0                      Corporation   \n",
       "2020-04-03    54601.0   722513.0  Limited  Liability Company(LLC)   \n",
       "2020-04-03    85295.0   812112.0                      Corporation   \n",
       "...               ...        ...                              ...   \n",
       "2020-06-30    45402.0   423830.0                      Corporation   \n",
       "2020-06-30    48334.0   423620.0  Limited  Liability Company(LLC)   \n",
       "2020-06-30    95207.0   238210.0  Limited  Liability Company(LLC)   \n",
       "2020-06-30     1060.0   624120.0                      Corporation   \n",
       "2020-06-30    92807.0   721110.0                      Corporation   \n",
       "\n",
       "             RaceEthnicity      Gender      Veteran NonProfit  JobsRetained  \\\n",
       "DateApproved                                                                  \n",
       "2020-04-03      Unanswered  Unanswered   Unanswered       NaN         221.0   \n",
       "2020-04-03      Unanswered  Male Owned   Unanswered       NaN          26.0   \n",
       "2020-04-03      Unanswered  Unanswered   Unanswered       NaN          43.0   \n",
       "2020-04-03           White  Male Owned  Non-Veteran       NaN          51.0   \n",
       "2020-04-03           White  Male Owned  Non-Veteran       NaN          66.0   \n",
       "...                    ...         ...          ...       ...           ...   \n",
       "2020-06-30      Unanswered  Unanswered   Unanswered       NaN         484.0   \n",
       "2020-06-30      Unanswered  Unanswered   Unanswered       NaN          15.0   \n",
       "2020-06-30      Unanswered  Unanswered   Unanswered       NaN          12.0   \n",
       "2020-06-30      Unanswered  Unanswered   Unanswered       NaN         162.0   \n",
       "2020-06-30      Unanswered  Unanswered   Unanswered       NaN           0.0   \n",
       "\n",
       "                                              Lender       CD  \n",
       "DateApproved                                                   \n",
       "2020-04-03                NebraskaLand National Bank  NE - 01  \n",
       "2020-04-03                              Success Bank  IA - 03  \n",
       "2020-04-03               Legacy Bank & Trust Company  MO - 04  \n",
       "2020-04-03                                River Bank  WI - 03  \n",
       "2020-04-03                               Unison Bank  AZ - 05  \n",
       "...                                              ...      ...  \n",
       "2020-06-30              KeyBank National Association  OH - 10  \n",
       "2020-06-30                          Cross River Bank  MI - 09  \n",
       "2020-06-30                            Customers Bank  CA - 09  \n",
       "2020-06-30                            Customers Bank  MA - 02  \n",
       "2020-06-30    Wells Fargo Bank, National Association  CA - 39  \n",
       "\n",
       "[620712 rows x 15 columns]"
      ]
     },
     "execution_count": 22,
     "metadata": {},
     "output_type": "execute_result"
    }
   ],
   "source": [
    "df_dates = df_dates.dropna(subset=['JobsRetained'])\n",
    "df_dates"
   ]
  },
  {
   "cell_type": "markdown",
   "metadata": {},
   "source": [
    "### How many owners are male and female? "
   ]
  },
  {
   "cell_type": "code",
   "execution_count": 23,
   "metadata": {},
   "outputs": [],
   "source": [
    "labelsG = list(df['Gender'].drop_duplicates())\n",
    "valuesG = list(df['Gender'].value_counts())"
   ]
  },
  {
   "cell_type": "code",
   "execution_count": 24,
   "metadata": {},
   "outputs": [
    {
     "data": {
      "image/png": "[encoded data removed]",
      "text/plain": [
       "<Figure size 432x288 with 1 Axes>"
      ]
     },
     "metadata": {},
     "output_type": "display_data"
    }
   ],
   "source": [
    "fig, ax = plt.subplots()\n",
    "ax.pie(valuesG, labels=labelsG, shadow=True, autopct='%1.1f%%')\n",
    "plt.show()"
   ]
  },
  {
   "cell_type": "markdown",
   "metadata": {},
   "source": [
    "### What is the percentage of ethnicity in this dataset?"
   ]
  },
  {
   "cell_type": "code",
   "execution_count": 25,
   "metadata": {},
   "outputs": [
    {
     "data": {
      "text/plain": [
       "['American Indian or Alaska Native',\n",
       " 'White',\n",
       " 'Black or African American',\n",
       " 'Asian',\n",
       " 'Hispanic',\n",
       " 'Puerto Rican']"
      ]
     },
     "execution_count": 25,
     "metadata": {},
     "output_type": "execute_result"
    }
   ],
   "source": [
    "labelsR = list(df['RaceEthnicity'].drop_duplicates())\n",
    "labelsR.remove('Unanswered')\n",
    "labelsR"
   ]
  },
  {
   "cell_type": "code",
   "execution_count": 26,
   "metadata": {},
   "outputs": [
    {
     "data": {
      "text/plain": [
       "[78782, 7139, 6201, 1827, 551, 1]"
      ]
     },
     "execution_count": 26,
     "metadata": {},
     "output_type": "execute_result"
    }
   ],
   "source": [
    "valuesR = list(df['RaceEthnicity'][df.RaceEthnicity != 'Unanswered'].value_counts())\n",
    "valuesR"
   ]
  },
  {
   "cell_type": "code",
   "execution_count": 27,
   "metadata": {},
   "outputs": [
    {
     "data": {
      "image/png": "[encoded data removed]",
      "text/plain": [
       "<Figure size 432x288 with 1 Axes>"
      ]
     },
     "metadata": {},
     "output_type": "display_data"
    }
   ],
   "source": [
    "fig, ax = plt.subplots()\n",
    "texts = ax.pie(valuesR, labels=labelsR, autopct='%1.1f%%')   \n",
    "ax.legend(loc= 'center left', bbox_to_anchor=(1.7, 0.5), labelspacing=0.8)\n",
    "plt.show()"
   ]
  },
  {
   "cell_type": "code",
   "execution_count": 28,
   "metadata": {},
   "outputs": [
    {
     "data": {
      "text/plain": [
       "Unanswered                          566708\n",
       "White                                78782\n",
       "Asian                                 7139\n",
       "Hispanic                              6201\n",
       "Black or African American             1827\n",
       "American Indian or Alaska Native       551\n",
       "Puerto Rican                             1\n",
       "Name: RaceEthnicity, dtype: int64"
      ]
     },
     "execution_count": 28,
     "metadata": {},
     "output_type": "execute_result"
    }
   ],
   "source": [
    "countRE =  df['RaceEthnicity'].value_counts()\n",
    "countRE "
   ]
  },
  {
   "cell_type": "code",
   "execution_count": null,
   "metadata": {},
   "outputs": [],
   "source": []
  }
 ],
 "metadata": {
  "kernelspec": {
   "display_name": "Python 3",
   "language": "python",
   "name": "python3"
  },
  "language_info": {
   "codemirror_mode": {
    "name": "ipython",
    "version": 3
   },
   "file_extension": ".py",
   "mimetype": "text/x-python",
   "name": "python",
   "nbconvert_exporter": "python",
   "pygments_lexer": "ipython3",
   "version": "3.7.6"
  }
 },
 "nbformat": 4,
 "nbformat_minor": 4
}
