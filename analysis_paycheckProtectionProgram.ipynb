{
 "cells": [
  {
   "cell_type": "code",
   "execution_count": 1,
   "metadata": {},
   "outputs": [],
   "source": [
    "import pandas as pd \n",
    "import matplotlib.pyplot as plt\n",
    "import squarify "
   ]
  },
  {
   "cell_type": "code",
   "execution_count": 181,
   "metadata": {},
   "outputs": [
    {
     "data": {
      "text/html": [
       "<div>\n",
       "<style scoped>\n",
       "    .dataframe tbody tr th:only-of-type {\n",
       "        vertical-align: middle;\n",
       "    }\n",
       "\n",
       "    .dataframe tbody tr th {\n",
       "        vertical-align: top;\n",
       "    }\n",
       "\n",
       "    .dataframe thead th {\n",
       "        text-align: right;\n",
       "    }\n",
       "</style>\n",
       "<table border=\"1\" class=\"dataframe\">\n",
       "  <thead>\n",
       "    <tr style=\"text-align: right;\">\n",
       "      <th></th>\n",
       "      <th>LoanRange</th>\n",
       "      <th>BusinessName</th>\n",
       "      <th>Address</th>\n",
       "      <th>City</th>\n",
       "      <th>State</th>\n",
       "      <th>Zip</th>\n",
       "      <th>NAICSCode</th>\n",
       "      <th>BusinessType</th>\n",
       "      <th>RaceEthnicity</th>\n",
       "      <th>Gender</th>\n",
       "      <th>Veteran</th>\n",
       "      <th>NonProfit</th>\n",
       "      <th>JobsRetained</th>\n",
       "      <th>DateApproved</th>\n",
       "      <th>Lender</th>\n",
       "      <th>CD</th>\n",
       "    </tr>\n",
       "  </thead>\n",
       "  <tbody>\n",
       "    <tr>\n",
       "      <th>0</th>\n",
       "      <td>a $5-10 million</td>\n",
       "      <td>ARCTIC SLOPE NATIVE ASSOCIATION, LTD.</td>\n",
       "      <td>7000 Uula St</td>\n",
       "      <td>BARROW</td>\n",
       "      <td>AK</td>\n",
       "      <td>99723.0</td>\n",
       "      <td>813920.0</td>\n",
       "      <td>Non-Profit Organization</td>\n",
       "      <td>Unanswered</td>\n",
       "      <td>Unanswered</td>\n",
       "      <td>Unanswered</td>\n",
       "      <td>Y</td>\n",
       "      <td>295.0</td>\n",
       "      <td>2020-04-14</td>\n",
       "      <td>National Cooperative Bank, National Association</td>\n",
       "      <td>AK - 00</td>\n",
       "    </tr>\n",
       "    <tr>\n",
       "      <th>1</th>\n",
       "      <td>a $5-10 million</td>\n",
       "      <td>CRUZ CONSTRUCTION INC</td>\n",
       "      <td>7000 East Palmer Wasilla Hwy</td>\n",
       "      <td>PALMER</td>\n",
       "      <td>AK</td>\n",
       "      <td>99645.0</td>\n",
       "      <td>238190.0</td>\n",
       "      <td>Subchapter S Corporation</td>\n",
       "      <td>Unanswered</td>\n",
       "      <td>Unanswered</td>\n",
       "      <td>Unanswered</td>\n",
       "      <td>NaN</td>\n",
       "      <td>215.0</td>\n",
       "      <td>2020-04-15</td>\n",
       "      <td>First National Bank Alaska</td>\n",
       "      <td>AK - 00</td>\n",
       "    </tr>\n",
       "    <tr>\n",
       "      <th>2</th>\n",
       "      <td>a $5-10 million</td>\n",
       "      <td>I. C. E. SERVICES, INC</td>\n",
       "      <td>2606 C Street</td>\n",
       "      <td>ANCHORAGE</td>\n",
       "      <td>AK</td>\n",
       "      <td>99503.0</td>\n",
       "      <td>722310.0</td>\n",
       "      <td>Corporation</td>\n",
       "      <td>Unanswered</td>\n",
       "      <td>Unanswered</td>\n",
       "      <td>Unanswered</td>\n",
       "      <td>NaN</td>\n",
       "      <td>367.0</td>\n",
       "      <td>2020-04-11</td>\n",
       "      <td>KeyBank National Association</td>\n",
       "      <td>AK - 00</td>\n",
       "    </tr>\n",
       "    <tr>\n",
       "      <th>3</th>\n",
       "      <td>a $5-10 million</td>\n",
       "      <td>KATMAI HEALTH SERVICES LLC</td>\n",
       "      <td>11001 O'MALLEY CENTRE DRIVE, SUITE 204</td>\n",
       "      <td>ANCHORAGE</td>\n",
       "      <td>AK</td>\n",
       "      <td>99515.0</td>\n",
       "      <td>621111.0</td>\n",
       "      <td>Limited  Liability Company(LLC)</td>\n",
       "      <td>Unanswered</td>\n",
       "      <td>Unanswered</td>\n",
       "      <td>Unanswered</td>\n",
       "      <td>NaN</td>\n",
       "      <td>0.0</td>\n",
       "      <td>2020-04-29</td>\n",
       "      <td>Truist Bank d/b/a Branch Banking &amp; Trust Co</td>\n",
       "      <td>AK - 00</td>\n",
       "    </tr>\n",
       "    <tr>\n",
       "      <th>4</th>\n",
       "      <td>a $5-10 million</td>\n",
       "      <td>MATANUSKA TELEPHONE ASSOCIATION</td>\n",
       "      <td>1740 S. CHUGACH ST</td>\n",
       "      <td>PALMER</td>\n",
       "      <td>AK</td>\n",
       "      <td>99645.0</td>\n",
       "      <td>517311.0</td>\n",
       "      <td>Cooperative</td>\n",
       "      <td>Unanswered</td>\n",
       "      <td>Unanswered</td>\n",
       "      <td>Unanswered</td>\n",
       "      <td>NaN</td>\n",
       "      <td>267.0</td>\n",
       "      <td>2020-06-10</td>\n",
       "      <td>CoBank ACB</td>\n",
       "      <td>AK - 00</td>\n",
       "    </tr>\n",
       "    <tr>\n",
       "      <th>5</th>\n",
       "      <td>a $5-10 million</td>\n",
       "      <td>NANA WORLEY, LLC</td>\n",
       "      <td>3700 Centerpoint Drive, 7th floor</td>\n",
       "      <td>ANCHORAGE</td>\n",
       "      <td>AK</td>\n",
       "      <td>99503.0</td>\n",
       "      <td>541330.0</td>\n",
       "      <td>Limited  Liability Company(LLC)</td>\n",
       "      <td>Unanswered</td>\n",
       "      <td>Unanswered</td>\n",
       "      <td>Unanswered</td>\n",
       "      <td>NaN</td>\n",
       "      <td>231.0</td>\n",
       "      <td>2020-05-19</td>\n",
       "      <td>First National Bank Alaska</td>\n",
       "      <td>AK - 00</td>\n",
       "    </tr>\n",
       "    <tr>\n",
       "      <th>6</th>\n",
       "      <td>a $5-10 million</td>\n",
       "      <td>NORTHERN ENERGY SERVICES, LLC</td>\n",
       "      <td>6250 South Airpark Place</td>\n",
       "      <td>ANCHORAGE</td>\n",
       "      <td>AK</td>\n",
       "      <td>99502.0</td>\n",
       "      <td>213112.0</td>\n",
       "      <td>Limited  Liability Company(LLC)</td>\n",
       "      <td>Unanswered</td>\n",
       "      <td>Unanswered</td>\n",
       "      <td>Unanswered</td>\n",
       "      <td>NaN</td>\n",
       "      <td>298.0</td>\n",
       "      <td>2020-04-06</td>\n",
       "      <td>Northrim Bank</td>\n",
       "      <td>AK - 00</td>\n",
       "    </tr>\n",
       "    <tr>\n",
       "      <th>7</th>\n",
       "      <td>a $5-10 million</td>\n",
       "      <td>SOUTH PENINSULA HOSPITAL INC</td>\n",
       "      <td>4300 BARTLETT STREET</td>\n",
       "      <td>HOMER</td>\n",
       "      <td>AK</td>\n",
       "      <td>99603.0</td>\n",
       "      <td>622110.0</td>\n",
       "      <td>Corporation</td>\n",
       "      <td>Unanswered</td>\n",
       "      <td>Unanswered</td>\n",
       "      <td>Unanswered</td>\n",
       "      <td>NaN</td>\n",
       "      <td>439.0</td>\n",
       "      <td>2020-04-14</td>\n",
       "      <td>First National Bank Alaska</td>\n",
       "      <td>AK - 00</td>\n",
       "    </tr>\n",
       "    <tr>\n",
       "      <th>8</th>\n",
       "      <td>a $5-10 million</td>\n",
       "      <td>TATITLEK TECHNOLOGIES, INC.</td>\n",
       "      <td>561 E. 36th Avenue</td>\n",
       "      <td>ANCHORAGE</td>\n",
       "      <td>AK</td>\n",
       "      <td>99503.0</td>\n",
       "      <td>518210.0</td>\n",
       "      <td>Corporation</td>\n",
       "      <td>Unanswered</td>\n",
       "      <td>Unanswered</td>\n",
       "      <td>Unanswered</td>\n",
       "      <td>NaN</td>\n",
       "      <td>361.0</td>\n",
       "      <td>2020-04-14</td>\n",
       "      <td>KeyBank National Association</td>\n",
       "      <td>AK - 00</td>\n",
       "    </tr>\n",
       "    <tr>\n",
       "      <th>9</th>\n",
       "      <td>a $5-10 million</td>\n",
       "      <td>TYONEK GLOBAL SERVICES, LLC</td>\n",
       "      <td>1689 C ST</td>\n",
       "      <td>ANCHORAGE</td>\n",
       "      <td>AK</td>\n",
       "      <td>99501.0</td>\n",
       "      <td>611420.0</td>\n",
       "      <td>Limited  Liability Company(LLC)</td>\n",
       "      <td>Unanswered</td>\n",
       "      <td>Unanswered</td>\n",
       "      <td>Unanswered</td>\n",
       "      <td>NaN</td>\n",
       "      <td>0.0</td>\n",
       "      <td>2020-04-30</td>\n",
       "      <td>BBVA USA</td>\n",
       "      <td>AK - 00</td>\n",
       "    </tr>\n",
       "  </tbody>\n",
       "</table>\n",
       "</div>"
      ],
      "text/plain": [
       "         LoanRange                           BusinessName  \\\n",
       "0  a $5-10 million  ARCTIC SLOPE NATIVE ASSOCIATION, LTD.   \n",
       "1  a $5-10 million                  CRUZ CONSTRUCTION INC   \n",
       "2  a $5-10 million                 I. C. E. SERVICES, INC   \n",
       "3  a $5-10 million             KATMAI HEALTH SERVICES LLC   \n",
       "4  a $5-10 million        MATANUSKA TELEPHONE ASSOCIATION   \n",
       "5  a $5-10 million                       NANA WORLEY, LLC   \n",
       "6  a $5-10 million          NORTHERN ENERGY SERVICES, LLC   \n",
       "7  a $5-10 million           SOUTH PENINSULA HOSPITAL INC   \n",
       "8  a $5-10 million            TATITLEK TECHNOLOGIES, INC.   \n",
       "9  a $5-10 million            TYONEK GLOBAL SERVICES, LLC   \n",
       "\n",
       "                                  Address       City State      Zip  \\\n",
       "0                            7000 Uula St     BARROW    AK  99723.0   \n",
       "1            7000 East Palmer Wasilla Hwy     PALMER    AK  99645.0   \n",
       "2                           2606 C Street  ANCHORAGE    AK  99503.0   \n",
       "3  11001 O'MALLEY CENTRE DRIVE, SUITE 204  ANCHORAGE    AK  99515.0   \n",
       "4                      1740 S. CHUGACH ST     PALMER    AK  99645.0   \n",
       "5       3700 Centerpoint Drive, 7th floor  ANCHORAGE    AK  99503.0   \n",
       "6                6250 South Airpark Place  ANCHORAGE    AK  99502.0   \n",
       "7                    4300 BARTLETT STREET      HOMER    AK  99603.0   \n",
       "8                      561 E. 36th Avenue  ANCHORAGE    AK  99503.0   \n",
       "9                               1689 C ST  ANCHORAGE    AK  99501.0   \n",
       "\n",
       "   NAICSCode                     BusinessType RaceEthnicity      Gender  \\\n",
       "0   813920.0          Non-Profit Organization    Unanswered  Unanswered   \n",
       "1   238190.0         Subchapter S Corporation    Unanswered  Unanswered   \n",
       "2   722310.0                      Corporation    Unanswered  Unanswered   \n",
       "3   621111.0  Limited  Liability Company(LLC)    Unanswered  Unanswered   \n",
       "4   517311.0                      Cooperative    Unanswered  Unanswered   \n",
       "5   541330.0  Limited  Liability Company(LLC)    Unanswered  Unanswered   \n",
       "6   213112.0  Limited  Liability Company(LLC)    Unanswered  Unanswered   \n",
       "7   622110.0                      Corporation    Unanswered  Unanswered   \n",
       "8   518210.0                      Corporation    Unanswered  Unanswered   \n",
       "9   611420.0  Limited  Liability Company(LLC)    Unanswered  Unanswered   \n",
       "\n",
       "      Veteran NonProfit  JobsRetained DateApproved  \\\n",
       "0  Unanswered         Y         295.0   2020-04-14   \n",
       "1  Unanswered       NaN         215.0   2020-04-15   \n",
       "2  Unanswered       NaN         367.0   2020-04-11   \n",
       "3  Unanswered       NaN           0.0   2020-04-29   \n",
       "4  Unanswered       NaN         267.0   2020-06-10   \n",
       "5  Unanswered       NaN         231.0   2020-05-19   \n",
       "6  Unanswered       NaN         298.0   2020-04-06   \n",
       "7  Unanswered       NaN         439.0   2020-04-14   \n",
       "8  Unanswered       NaN         361.0   2020-04-14   \n",
       "9  Unanswered       NaN           0.0   2020-04-30   \n",
       "\n",
       "                                            Lender       CD  \n",
       "0  National Cooperative Bank, National Association  AK - 00  \n",
       "1                       First National Bank Alaska  AK - 00  \n",
       "2                     KeyBank National Association  AK - 00  \n",
       "3      Truist Bank d/b/a Branch Banking & Trust Co  AK - 00  \n",
       "4                                       CoBank ACB  AK - 00  \n",
       "5                       First National Bank Alaska  AK - 00  \n",
       "6                                    Northrim Bank  AK - 00  \n",
       "7                       First National Bank Alaska  AK - 00  \n",
       "8                     KeyBank National Association  AK - 00  \n",
       "9                                         BBVA USA  AK - 00  "
      ]
     },
     "execution_count": 181,
     "metadata": {},
     "output_type": "execute_result"
    }
   ],
   "source": [
    "df = pd.read_csv('PPP_ORIGINAL.csv', parse_dates=[\"DateApproved\"]).drop_duplicates()\n",
    "df.head(10)"
   ]
  },
  {
   "cell_type": "markdown",
   "metadata": {},
   "source": [
    "### How much of this business are non-profitable?"
   ]
  },
  {
   "cell_type": "code",
   "execution_count": 25,
   "metadata": {},
   "outputs": [
    {
     "data": {
      "text/plain": [
       "42462"
      ]
     },
     "execution_count": 25,
     "metadata": {},
     "output_type": "execute_result"
    }
   ],
   "source": [
    "df_temp = df\n",
    "df_temp['NonProfit'][df_temp.NonProfit == 'Y'].count()"
   ]
  },
  {
   "cell_type": "code",
   "execution_count": 14,
   "metadata": {},
   "outputs": [
    {
     "data": {
      "text/plain": [
       "LoanRange             0\n",
       "BusinessName          8\n",
       "Address              17\n",
       "City                 15\n",
       "State                 0\n",
       "Zip                  16\n",
       "NAICSCode          6783\n",
       "BusinessType       1429\n",
       "RaceEthnicity         0\n",
       "Gender                0\n",
       "Veteran               0\n",
       "NonProfit        618756\n",
       "JobsRetained      40506\n",
       "DateApproved          0\n",
       "Lender                0\n",
       "CD                    0\n",
       "dtype: int64"
      ]
     },
     "execution_count": 14,
     "metadata": {},
     "output_type": "execute_result"
    }
   ],
   "source": [
    "df_temp.isnull().sum(axis = 0)"
   ]
  },
  {
   "cell_type": "code",
   "execution_count": 30,
   "metadata": {
    "scrolled": true
   },
   "outputs": [
    {
     "data": {
      "text/html": [
       "<div>\n",
       "<style scoped>\n",
       "    .dataframe tbody tr th:only-of-type {\n",
       "        vertical-align: middle;\n",
       "    }\n",
       "\n",
       "    .dataframe tbody tr th {\n",
       "        vertical-align: top;\n",
       "    }\n",
       "\n",
       "    .dataframe thead th {\n",
       "        text-align: right;\n",
       "    }\n",
       "</style>\n",
       "<table border=\"1\" class=\"dataframe\">\n",
       "  <thead>\n",
       "    <tr style=\"text-align: right;\">\n",
       "      <th></th>\n",
       "      <th>Zip</th>\n",
       "      <th>NAICSCode</th>\n",
       "      <th>JobsRetained</th>\n",
       "    </tr>\n",
       "  </thead>\n",
       "  <tbody>\n",
       "    <tr>\n",
       "      <th>count</th>\n",
       "      <td>661193.000000</td>\n",
       "      <td>654426.000000</td>\n",
       "      <td>620707.000000</td>\n",
       "    </tr>\n",
       "    <tr>\n",
       "      <th>mean</th>\n",
       "      <td>51309.843478</td>\n",
       "      <td>504692.547599</td>\n",
       "      <td>50.678178</td>\n",
       "    </tr>\n",
       "    <tr>\n",
       "      <th>std</th>\n",
       "      <td>30751.728653</td>\n",
       "      <td>177885.402266</td>\n",
       "      <td>71.197853</td>\n",
       "    </tr>\n",
       "    <tr>\n",
       "      <th>min</th>\n",
       "      <td>256.000000</td>\n",
       "      <td>111110.000000</td>\n",
       "      <td>0.000000</td>\n",
       "    </tr>\n",
       "    <tr>\n",
       "      <th>25%</th>\n",
       "      <td>23606.000000</td>\n",
       "      <td>337110.000000</td>\n",
       "      <td>16.000000</td>\n",
       "    </tr>\n",
       "    <tr>\n",
       "      <th>50%</th>\n",
       "      <td>48647.000000</td>\n",
       "      <td>541110.000000</td>\n",
       "      <td>28.000000</td>\n",
       "    </tr>\n",
       "    <tr>\n",
       "      <th>75%</th>\n",
       "      <td>79549.000000</td>\n",
       "      <td>621320.000000</td>\n",
       "      <td>54.000000</td>\n",
       "    </tr>\n",
       "    <tr>\n",
       "      <th>max</th>\n",
       "      <td>99929.000000</td>\n",
       "      <td>999990.000000</td>\n",
       "      <td>500.000000</td>\n",
       "    </tr>\n",
       "  </tbody>\n",
       "</table>\n",
       "</div>"
      ],
      "text/plain": [
       "                 Zip      NAICSCode   JobsRetained\n",
       "count  661193.000000  654426.000000  620707.000000\n",
       "mean    51309.843478  504692.547599      50.678178\n",
       "std     30751.728653  177885.402266      71.197853\n",
       "min       256.000000  111110.000000       0.000000\n",
       "25%     23606.000000  337110.000000      16.000000\n",
       "50%     48647.000000  541110.000000      28.000000\n",
       "75%     79549.000000  621320.000000      54.000000\n",
       "max     99929.000000  999990.000000     500.000000"
      ]
     },
     "execution_count": 30,
     "metadata": {},
     "output_type": "execute_result"
    }
   ],
   "source": [
    "### how many records are presented on dataset\n",
    "\n",
    "df_temp.describe()"
   ]
  },
  {
   "cell_type": "code",
   "execution_count": 41,
   "metadata": {},
   "outputs": [
    {
     "data": {
      "text/plain": [
       "JPMorgan Chase Bank, National Association      36700\n",
       "Bank of America, National Association          29157\n",
       "Truist Bank d/b/a Branch Banking & Trust Co    16076\n",
       "PNC Bank, National Association                 14649\n",
       "Wells Fargo Bank, National Association         12145\n",
       "TD Bank, National Association                  10389\n",
       "KeyBank National Association                    9352\n",
       "U.S. Bank, National Association                 8658\n",
       "Zions Bank, A Division of                       8418\n",
       "Manufacturers and Traders Trust Company         8345\n",
       "The Huntington National Bank                    7946\n",
       "Fifth Third Bank                                6018\n",
       "Cross River Bank                                5901\n",
       "Citizens Bank, National Association             5516\n",
       "Regions Bank                                    5362\n",
       "City National Bank                              5060\n",
       "First-Citizens Bank & Trust Company             4694\n",
       "BMO Harris Bank National Association            4528\n",
       "Celtic Bank Corporation                         4440\n",
       "Frost Bank                                      4282\n",
       "Citibank, N.A.                                  4233\n",
       "Bank of the West                                4189\n",
       "Pinnacle Bank                                   4110\n",
       "Synovus Bank                                    3946\n",
       "Readycap Lending, LLC                           3869\n",
       "BBVA USA                                        3811\n",
       "Comerica Bank                                   3799\n",
       "South State Bank, National Association          3749\n",
       "First National Bank of Pennsylvania             3347\n",
       "Customers Bank                                  3085\n",
       "Name: Lender, dtype: int64"
      ]
     },
     "execution_count": 41,
     "metadata": {},
     "output_type": "execute_result"
    }
   ],
   "source": [
    "df_temp.sort_values('Lender',ascending=False, inplace=True)\n",
    "df_temp.Lender.value_counts().head(30)"
   ]
  },
  {
   "cell_type": "code",
   "execution_count": 44,
   "metadata": {
    "scrolled": true
   },
   "outputs": [
    {
     "data": {
      "text/plain": [
       "LoanRange             5\n",
       "BusinessName     656592\n",
       "Address          628512\n",
       "City              15791\n",
       "State                57\n",
       "Zip               25349\n",
       "NAICSCode          1167\n",
       "BusinessType         17\n",
       "RaceEthnicity         7\n",
       "Gender                3\n",
       "Veteran               3\n",
       "NonProfit             1\n",
       "JobsRetained        501\n",
       "DateApproved         79\n",
       "Lender             4322\n",
       "CD                  482\n",
       "dtype: int64"
      ]
     },
     "execution_count": 44,
     "metadata": {},
     "output_type": "execute_result"
    }
   ],
   "source": [
    "df.nunique()"
   ]
  },
  {
   "cell_type": "markdown",
   "metadata": {},
   "source": [
    "### How much jobs are retained by type of bussiness?"
   ]
  },
  {
   "cell_type": "code",
   "execution_count": 48,
   "metadata": {},
   "outputs": [
    {
     "data": {
      "text/plain": [
       "255265            Non-Profit Organization\n",
       "256168            Non-Profit Organization\n",
       "308518    Limited  Liability Company(LLC)\n",
       "308550                        Corporation\n",
       "318076            Non-Profit Organization\n",
       "                       ...               \n",
       "628858           Subchapter S Corporation\n",
       "381639    Limited  Liability Company(LLC)\n",
       "384307    Limited  Liability Company(LLC)\n",
       "628245           Subchapter S Corporation\n",
       "628840           Subchapter S Corporation\n",
       "Name: BusinessType, Length: 661209, dtype: object"
      ]
     },
     "execution_count": 48,
     "metadata": {},
     "output_type": "execute_result"
    }
   ],
   "source": [
    "x = df.JobsRetained\n",
    "x\n",
    "\n",
    "types = df.BusinessType\n",
    "types"
   ]
  },
  {
   "cell_type": "code",
   "execution_count": 64,
   "metadata": {},
   "outputs": [
    {
     "data": {
      "image/png": "[encoded data removed]",
      "text/plain": [
       "<Figure size 1440x1080 with 20 Axes>"
      ]
     },
     "metadata": {
      "needs_background": "light"
     },
     "output_type": "display_data"
    }
   ],
   "source": [
    "df.hist(column='JobsRetained', by = 'BusinessType', figsize=(20,15), grid = False, color = 'blue', edgecolor = 'white')\n",
    "\n",
    "plt.xlabel('Jobs Retained', fontsize=12)\n",
    "plt.ylabel('Types of business', fontsize=12)\n",
    "plt.title('Jobs and business')\n",
    "\n",
    "plt.show()"
   ]
  },
  {
   "cell_type": "markdown",
   "metadata": {},
   "source": [
    "### What is the state with higher number of payrolls aproved? "
   ]
  },
  {
   "cell_type": "markdown",
   "metadata": {},
   "source": [
    "##### Task one: group by State and count data approved"
   ]
  },
  {
   "cell_type": "code",
   "execution_count": 167,
   "metadata": {},
   "outputs": [],
   "source": [
    "df_temp = df.groupby(by='State').count()\n",
    "df_temp = df_temp.rename({'DateApproved': 'Number of Loans Approved'}, axis='columns')\n",
    "df_temp = df_temp['Number of Loans Approved'].sort_values(ascending=False)\n",
    "all_values = list(df_temp)\n",
    "states = list(df_temp.index)"
   ]
  },
  {
   "cell_type": "markdown",
   "metadata": {},
   "source": [
    "##### Task two: sort values and graphic them"
   ]
  },
  {
   "cell_type": "code",
   "execution_count": 168,
   "metadata": {
    "scrolled": false
   },
   "outputs": [
    {
     "ename": "KeyError",
     "evalue": "'Number of Loans Approved'",
     "output_type": "error",
     "traceback": [
      "\u001b[1;31m---------------------------------------------------------------------------\u001b[0m",
      "\u001b[1;31mTypeError\u001b[0m                                 Traceback (most recent call last)",
      "\u001b[1;32m~\\anaconda3\\lib\\site-packages\\pandas\\core\\indexes\\base.py\u001b[0m in \u001b[0;36mget_value\u001b[1;34m(self, series, key)\u001b[0m\n\u001b[0;32m   4410\u001b[0m             \u001b[1;32mtry\u001b[0m\u001b[1;33m:\u001b[0m\u001b[1;33m\u001b[0m\u001b[1;33m\u001b[0m\u001b[0m\n\u001b[1;32m-> 4411\u001b[1;33m                 \u001b[1;32mreturn\u001b[0m \u001b[0mlibindex\u001b[0m\u001b[1;33m.\u001b[0m\u001b[0mget_value_at\u001b[0m\u001b[1;33m(\u001b[0m\u001b[0ms\u001b[0m\u001b[1;33m,\u001b[0m \u001b[0mkey\u001b[0m\u001b[1;33m)\u001b[0m\u001b[1;33m\u001b[0m\u001b[1;33m\u001b[0m\u001b[0m\n\u001b[0m\u001b[0;32m   4412\u001b[0m             \u001b[1;32mexcept\u001b[0m \u001b[0mIndexError\u001b[0m\u001b[1;33m:\u001b[0m\u001b[1;33m\u001b[0m\u001b[1;33m\u001b[0m\u001b[0m\n",
      "\u001b[1;32mpandas\\_libs\\index.pyx\u001b[0m in \u001b[0;36mpandas._libs.index.get_value_at\u001b[1;34m()\u001b[0m\n",
      "\u001b[1;32mpandas\\_libs\\index.pyx\u001b[0m in \u001b[0;36mpandas._libs.index.get_value_at\u001b[1;34m()\u001b[0m\n",
      "\u001b[1;32mpandas\\_libs\\util.pxd\u001b[0m in \u001b[0;36mpandas._libs.util.get_value_at\u001b[1;34m()\u001b[0m\n",
      "\u001b[1;32mpandas\\_libs\\util.pxd\u001b[0m in \u001b[0;36mpandas._libs.util.validate_indexer\u001b[1;34m()\u001b[0m\n",
      "\u001b[1;31mTypeError\u001b[0m: 'str' object cannot be interpreted as an integer",
      "\nDuring handling of the above exception, another exception occurred:\n",
      "\u001b[1;31mKeyError\u001b[0m                                  Traceback (most recent call last)",
      "\u001b[1;32m<ipython-input-168-3d74d049be6c>\u001b[0m in \u001b[0;36m<module>\u001b[1;34m\u001b[0m\n\u001b[1;32m----> 1\u001b[1;33m \u001b[0mdf_temp\u001b[0m \u001b[1;33m=\u001b[0m \u001b[0mdf_temp\u001b[0m\u001b[1;33m[\u001b[0m\u001b[1;34m'Number of Loans Approved'\u001b[0m\u001b[1;33m]\u001b[0m\u001b[1;33m.\u001b[0m\u001b[0msort_values\u001b[0m\u001b[1;33m(\u001b[0m\u001b[0mascending\u001b[0m\u001b[1;33m=\u001b[0m\u001b[1;32mFalse\u001b[0m\u001b[1;33m)\u001b[0m\u001b[1;33m\u001b[0m\u001b[1;33m\u001b[0m\u001b[0m\n\u001b[0m\u001b[0;32m      2\u001b[0m \u001b[0mdf_temp\u001b[0m \u001b[1;33m=\u001b[0m \u001b[0mdf_temp\u001b[0m\u001b[1;33m.\u001b[0m\u001b[0mhead\u001b[0m\u001b[1;33m(\u001b[0m\u001b[1;36m10\u001b[0m\u001b[1;33m)\u001b[0m\u001b[1;33m\u001b[0m\u001b[1;33m\u001b[0m\u001b[0m\n\u001b[0;32m      3\u001b[0m \u001b[0mdf_temp\u001b[0m\u001b[1;33m\u001b[0m\u001b[1;33m\u001b[0m\u001b[0m\n\u001b[0;32m      4\u001b[0m \u001b[0mall_values\u001b[0m \u001b[1;33m=\u001b[0m \u001b[0mlist\u001b[0m\u001b[1;33m(\u001b[0m\u001b[0mdf_temp\u001b[0m\u001b[1;33m)\u001b[0m\u001b[1;33m\u001b[0m\u001b[1;33m\u001b[0m\u001b[0m\n",
      "\u001b[1;32m~\\anaconda3\\lib\\site-packages\\pandas\\core\\series.py\u001b[0m in \u001b[0;36m__getitem__\u001b[1;34m(self, key)\u001b[0m\n\u001b[0;32m    869\u001b[0m         \u001b[0mkey\u001b[0m \u001b[1;33m=\u001b[0m \u001b[0mcom\u001b[0m\u001b[1;33m.\u001b[0m\u001b[0mapply_if_callable\u001b[0m\u001b[1;33m(\u001b[0m\u001b[0mkey\u001b[0m\u001b[1;33m,\u001b[0m \u001b[0mself\u001b[0m\u001b[1;33m)\u001b[0m\u001b[1;33m\u001b[0m\u001b[1;33m\u001b[0m\u001b[0m\n\u001b[0;32m    870\u001b[0m         \u001b[1;32mtry\u001b[0m\u001b[1;33m:\u001b[0m\u001b[1;33m\u001b[0m\u001b[1;33m\u001b[0m\u001b[0m\n\u001b[1;32m--> 871\u001b[1;33m             \u001b[0mresult\u001b[0m \u001b[1;33m=\u001b[0m \u001b[0mself\u001b[0m\u001b[1;33m.\u001b[0m\u001b[0mindex\u001b[0m\u001b[1;33m.\u001b[0m\u001b[0mget_value\u001b[0m\u001b[1;33m(\u001b[0m\u001b[0mself\u001b[0m\u001b[1;33m,\u001b[0m \u001b[0mkey\u001b[0m\u001b[1;33m)\u001b[0m\u001b[1;33m\u001b[0m\u001b[1;33m\u001b[0m\u001b[0m\n\u001b[0m\u001b[0;32m    872\u001b[0m \u001b[1;33m\u001b[0m\u001b[0m\n\u001b[0;32m    873\u001b[0m             \u001b[1;32mif\u001b[0m \u001b[1;32mnot\u001b[0m \u001b[0mis_scalar\u001b[0m\u001b[1;33m(\u001b[0m\u001b[0mresult\u001b[0m\u001b[1;33m)\u001b[0m\u001b[1;33m:\u001b[0m\u001b[1;33m\u001b[0m\u001b[1;33m\u001b[0m\u001b[0m\n",
      "\u001b[1;32m~\\anaconda3\\lib\\site-packages\\pandas\\core\\indexes\\base.py\u001b[0m in \u001b[0;36mget_value\u001b[1;34m(self, series, key)\u001b[0m\n\u001b[0;32m   4417\u001b[0m                     \u001b[1;32mraise\u001b[0m \u001b[0mInvalidIndexError\u001b[0m\u001b[1;33m(\u001b[0m\u001b[0mkey\u001b[0m\u001b[1;33m)\u001b[0m\u001b[1;33m\u001b[0m\u001b[1;33m\u001b[0m\u001b[0m\n\u001b[0;32m   4418\u001b[0m                 \u001b[1;32melse\u001b[0m\u001b[1;33m:\u001b[0m\u001b[1;33m\u001b[0m\u001b[1;33m\u001b[0m\u001b[0m\n\u001b[1;32m-> 4419\u001b[1;33m                     \u001b[1;32mraise\u001b[0m \u001b[0me1\u001b[0m\u001b[1;33m\u001b[0m\u001b[1;33m\u001b[0m\u001b[0m\n\u001b[0m\u001b[0;32m   4420\u001b[0m             \u001b[1;32mexcept\u001b[0m \u001b[0mException\u001b[0m\u001b[1;33m:\u001b[0m\u001b[1;33m\u001b[0m\u001b[1;33m\u001b[0m\u001b[0m\n\u001b[0;32m   4421\u001b[0m                 \u001b[1;32mraise\u001b[0m \u001b[0me1\u001b[0m\u001b[1;33m\u001b[0m\u001b[1;33m\u001b[0m\u001b[0m\n",
      "\u001b[1;32m~\\anaconda3\\lib\\site-packages\\pandas\\core\\indexes\\base.py\u001b[0m in \u001b[0;36mget_value\u001b[1;34m(self, series, key)\u001b[0m\n\u001b[0;32m   4403\u001b[0m         \u001b[0mk\u001b[0m \u001b[1;33m=\u001b[0m \u001b[0mself\u001b[0m\u001b[1;33m.\u001b[0m\u001b[0m_convert_scalar_indexer\u001b[0m\u001b[1;33m(\u001b[0m\u001b[0mk\u001b[0m\u001b[1;33m,\u001b[0m \u001b[0mkind\u001b[0m\u001b[1;33m=\u001b[0m\u001b[1;34m\"getitem\"\u001b[0m\u001b[1;33m)\u001b[0m\u001b[1;33m\u001b[0m\u001b[1;33m\u001b[0m\u001b[0m\n\u001b[0;32m   4404\u001b[0m         \u001b[1;32mtry\u001b[0m\u001b[1;33m:\u001b[0m\u001b[1;33m\u001b[0m\u001b[1;33m\u001b[0m\u001b[0m\n\u001b[1;32m-> 4405\u001b[1;33m             \u001b[1;32mreturn\u001b[0m \u001b[0mself\u001b[0m\u001b[1;33m.\u001b[0m\u001b[0m_engine\u001b[0m\u001b[1;33m.\u001b[0m\u001b[0mget_value\u001b[0m\u001b[1;33m(\u001b[0m\u001b[0ms\u001b[0m\u001b[1;33m,\u001b[0m \u001b[0mk\u001b[0m\u001b[1;33m,\u001b[0m \u001b[0mtz\u001b[0m\u001b[1;33m=\u001b[0m\u001b[0mgetattr\u001b[0m\u001b[1;33m(\u001b[0m\u001b[0mseries\u001b[0m\u001b[1;33m.\u001b[0m\u001b[0mdtype\u001b[0m\u001b[1;33m,\u001b[0m \u001b[1;34m\"tz\"\u001b[0m\u001b[1;33m,\u001b[0m \u001b[1;32mNone\u001b[0m\u001b[1;33m)\u001b[0m\u001b[1;33m)\u001b[0m\u001b[1;33m\u001b[0m\u001b[1;33m\u001b[0m\u001b[0m\n\u001b[0m\u001b[0;32m   4406\u001b[0m         \u001b[1;32mexcept\u001b[0m \u001b[0mKeyError\u001b[0m \u001b[1;32mas\u001b[0m \u001b[0me1\u001b[0m\u001b[1;33m:\u001b[0m\u001b[1;33m\u001b[0m\u001b[1;33m\u001b[0m\u001b[0m\n\u001b[0;32m   4407\u001b[0m             \u001b[1;32mif\u001b[0m \u001b[0mlen\u001b[0m\u001b[1;33m(\u001b[0m\u001b[0mself\u001b[0m\u001b[1;33m)\u001b[0m \u001b[1;33m>\u001b[0m \u001b[1;36m0\u001b[0m \u001b[1;32mand\u001b[0m \u001b[1;33m(\u001b[0m\u001b[0mself\u001b[0m\u001b[1;33m.\u001b[0m\u001b[0mholds_integer\u001b[0m\u001b[1;33m(\u001b[0m\u001b[1;33m)\u001b[0m \u001b[1;32mor\u001b[0m \u001b[0mself\u001b[0m\u001b[1;33m.\u001b[0m\u001b[0mis_boolean\u001b[0m\u001b[1;33m(\u001b[0m\u001b[1;33m)\u001b[0m\u001b[1;33m)\u001b[0m\u001b[1;33m:\u001b[0m\u001b[1;33m\u001b[0m\u001b[1;33m\u001b[0m\u001b[0m\n",
      "\u001b[1;32mpandas\\_libs\\index.pyx\u001b[0m in \u001b[0;36mpandas._libs.index.IndexEngine.get_value\u001b[1;34m()\u001b[0m\n",
      "\u001b[1;32mpandas\\_libs\\index.pyx\u001b[0m in \u001b[0;36mpandas._libs.index.IndexEngine.get_value\u001b[1;34m()\u001b[0m\n",
      "\u001b[1;32mpandas\\_libs\\index.pyx\u001b[0m in \u001b[0;36mpandas._libs.index.IndexEngine.get_loc\u001b[1;34m()\u001b[0m\n",
      "\u001b[1;32mpandas\\_libs\\hashtable_class_helper.pxi\u001b[0m in \u001b[0;36mpandas._libs.hashtable.PyObjectHashTable.get_item\u001b[1;34m()\u001b[0m\n",
      "\u001b[1;32mpandas\\_libs\\hashtable_class_helper.pxi\u001b[0m in \u001b[0;36mpandas._libs.hashtable.PyObjectHashTable.get_item\u001b[1;34m()\u001b[0m\n",
      "\u001b[1;31mKeyError\u001b[0m: 'Number of Loans Approved'"
     ]
    }
   ],
   "source": [
    "df_temp = df_temp['Number of Loans Approved'].sort_values(ascending=False)\n",
    "df_temp = df_temp.head(10)\n",
    "df_temp\n",
    "all_values = list(df_temp)"
   ]
  },
  {
   "cell_type": "markdown",
   "metadata": {},
   "source": [
    "###### Creating a bin for graphic"
   ]
  },
  {
   "cell_type": "code",
   "execution_count": 21,
   "metadata": {},
   "outputs": [
    {
     "data": {
      "text/plain": [
       "['CA', 'TX', 'NY', 'FL', 'IL', 'PA', 'OH', 'NJ', 'MI', 'GA']"
      ]
     },
     "execution_count": 21,
     "metadata": {},
     "output_type": "execute_result"
    }
   ],
   "source": [
    "states = df_temp.index\n",
    "statesList = []\n",
    "\n",
    "for state in states:\n",
    "    statesList.append(state)\n",
    "        \n",
    "statesList"
   ]
  },
  {
   "cell_type": "code",
   "execution_count": 22,
   "metadata": {},
   "outputs": [
    {
     "data": {
      "image/png": "[encoded data removed]",
      "text/plain": [
       "<Figure size 864x648 with 1 Axes>"
      ]
     },
     "metadata": {
      "needs_background": "light"
     },
     "output_type": "display_data"
    }
   ],
   "source": [
    "plt.figure(figsize=(12,9))\n",
    "plt.bar(statesList, df_temp, width=.80)\n",
    "plt.title('States with highers numbers of loans', fontsize=18)\n",
    "plt.xlabel(\"States\")\n",
    "plt.ylabel(\"Number of loans\")\n",
    "plt.show()"
   ]
  },
  {
   "cell_type": "code",
   "execution_count": 92,
   "metadata": {},
   "outputs": [
    {
     "data": {
      "image/png": "[encoded data removed]",
      "text/plain": [
       "<Figure size 864x864 with 1 Axes>"
      ]
     },
     "metadata": {
      "needs_background": "light"
     },
     "output_type": "display_data"
    }
   ],
   "source": [
    "fig, ax = plt.subplots(1, figsize=(12,12))\n",
    "squarify.plot(sizes= all_values, label= df_temp.index, alpha=.8)\n",
    "plt.axis('off')\n",
    "plt.show()"
   ]
  },
  {
   "cell_type": "markdown",
   "metadata": {},
   "source": [
    "### How many values of loans were disponible? "
   ]
  },
  {
   "cell_type": "markdown",
   "metadata": {},
   "source": [
    "##### Making a count of values from column LoanRange"
   ]
  },
  {
   "cell_type": "code",
   "execution_count": 66,
   "metadata": {},
   "outputs": [
    {
     "data": {
      "text/plain": [
       "['e $150,000-350,000',\n",
       " 'd $350,000-1 million',\n",
       " 'c $1-2 million',\n",
       " 'b $2-5 million',\n",
       " 'a $5-10 million']"
      ]
     },
     "execution_count": 66,
     "metadata": {},
     "output_type": "execute_result"
    }
   ],
   "source": [
    "df_temp2 = df['LoanRange'].drop_duplicates().sort_values(ascending=False)\n",
    "labels = list(df_temp2)\n",
    "labels"
   ]
  },
  {
   "cell_type": "code",
   "execution_count": 67,
   "metadata": {},
   "outputs": [
    {
     "data": {
      "text/plain": [
       "e $150,000-350,000      379048\n",
       "d $350,000-1 million    199455\n",
       "c $1-2 million           53029\n",
       "b $2-5 million           24837\n",
       "a $5-10 million           4840\n",
       "Name: LoanRange, dtype: int64"
      ]
     },
     "execution_count": 67,
     "metadata": {},
     "output_type": "execute_result"
    }
   ],
   "source": [
    "values = df['LoanRange'].value_counts()\n",
    "values"
   ]
  },
  {
   "cell_type": "code",
   "execution_count": 68,
   "metadata": {},
   "outputs": [
    {
     "data": {
      "text/plain": [
       "['57%', '30%', '8%', '4%', '1%']"
      ]
     },
     "execution_count": 68,
     "metadata": {},
     "output_type": "execute_result"
    }
   ],
   "source": [
    "## converting numbers to percentage\n",
    "\n",
    "numbers = df['LoanRange'].count()\n",
    "percentage_values = []\n",
    "\n",
    "for number in list(values):\n",
    "    number = number / numbers\n",
    "    percentage_values.append(\"{:.0%}\".format(number))\n",
    "\n",
    "percentage_values"
   ]
  },
  {
   "cell_type": "code",
   "execution_count": 69,
   "metadata": {},
   "outputs": [
    {
     "data": {
      "image/png": "[encoded data removed]",
      "text/plain": [
       "<Figure size 864x432 with 1 Axes>"
      ]
     },
     "metadata": {
      "needs_background": "light"
     },
     "output_type": "display_data"
    }
   ],
   "source": [
    "fig, ax = plt.subplots(figsize=(12,6))\n",
    "ax.set_title('Loans per Range', fontdict={'fontname': 'Times New Roman', 'fontsize': 18})\n",
    "ax.bar(labels, values) # x -> labels, y -> values\n",
    "ax.set_xlabel('Values of Loan')\n",
    "ax.set_ylabel('Total of Loans')\n",
    "\n",
    "plt.show()"
   ]
  },
  {
   "cell_type": "code",
   "execution_count": 11,
   "metadata": {
    "scrolled": true
   },
   "outputs": [
    {
     "data": {
      "image/png": "[encoded data removed]",
      "text/plain": [
       "<Figure size 432x288 with 1 Axes>"
      ]
     },
     "metadata": {},
     "output_type": "display_data"
    }
   ],
   "source": [
    "plt.pie(values, labels=labels, autopct='%1.1f%%')\n",
    "plt.show()"
   ]
  },
  {
   "cell_type": "code",
   "execution_count": 72,
   "metadata": {},
   "outputs": [
    {
     "data": {
      "image/png": "[encoded data removed]",
      "text/plain": [
       "<Figure size 1440x1008 with 6 Axes>"
      ]
     },
     "metadata": {
      "needs_background": "light"
     },
     "output_type": "display_data"
    }
   ],
   "source": [
    "df.hist(column='JobsRetained', by='LoanRange', figsize=(20,14), color='blue', edgecolor='white')\n",
    "plt.show()"
   ]
  },
  {
   "cell_type": "code",
   "execution_count": 116,
   "metadata": {},
   "outputs": [
    {
     "data": {
      "text/html": [
       "<div>\n",
       "<style scoped>\n",
       "    .dataframe tbody tr th:only-of-type {\n",
       "        vertical-align: middle;\n",
       "    }\n",
       "\n",
       "    .dataframe tbody tr th {\n",
       "        vertical-align: top;\n",
       "    }\n",
       "\n",
       "    .dataframe thead th {\n",
       "        text-align: right;\n",
       "    }\n",
       "</style>\n",
       "<table border=\"1\" class=\"dataframe\">\n",
       "  <thead>\n",
       "    <tr style=\"text-align: right;\">\n",
       "      <th></th>\n",
       "      <th>LoanRange</th>\n",
       "      <th>BusinessName</th>\n",
       "      <th>Address</th>\n",
       "      <th>City</th>\n",
       "      <th>State</th>\n",
       "      <th>Zip</th>\n",
       "      <th>NAICSCode</th>\n",
       "      <th>BusinessType</th>\n",
       "      <th>RaceEthnicity</th>\n",
       "      <th>Gender</th>\n",
       "      <th>Veteran</th>\n",
       "      <th>NonProfit</th>\n",
       "      <th>JobsRetained</th>\n",
       "      <th>DateApproved</th>\n",
       "      <th>Lender</th>\n",
       "      <th>CD</th>\n",
       "    </tr>\n",
       "  </thead>\n",
       "  <tbody>\n",
       "    <tr>\n",
       "      <th>255265</th>\n",
       "      <td>e $150,000-350,000</td>\n",
       "      <td>BUCKLIN HOSPITAL DISTRICT</td>\n",
       "      <td>505 W Elm</td>\n",
       "      <td>BUCKLIN</td>\n",
       "      <td>KS</td>\n",
       "      <td>67834.0</td>\n",
       "      <td>623110.0</td>\n",
       "      <td>Non-Profit Organization</td>\n",
       "      <td>Unanswered</td>\n",
       "      <td>Unanswered</td>\n",
       "      <td>Unanswered</td>\n",
       "      <td>Y</td>\n",
       "      <td>34.0</td>\n",
       "      <td>2020-06-26</td>\n",
       "      <td>the Farmers State Bank of Bucklin, Kansas</td>\n",
       "      <td>KS - 01</td>\n",
       "    </tr>\n",
       "    <tr>\n",
       "      <th>256168</th>\n",
       "      <td>e $150,000-350,000</td>\n",
       "      <td>HOSPICE OF THE PRAIRIE, INC.</td>\n",
       "      <td>PO BOX 1298 200 4th Circle</td>\n",
       "      <td>DODGE CITY</td>\n",
       "      <td>KS</td>\n",
       "      <td>67801.0</td>\n",
       "      <td>621610.0</td>\n",
       "      <td>Non-Profit Organization</td>\n",
       "      <td>Unanswered</td>\n",
       "      <td>Unanswered</td>\n",
       "      <td>Unanswered</td>\n",
       "      <td>Y</td>\n",
       "      <td>29.0</td>\n",
       "      <td>2020-04-09</td>\n",
       "      <td>the Farmers State Bank of Bucklin, Kansas</td>\n",
       "      <td>KS - 01</td>\n",
       "    </tr>\n",
       "    <tr>\n",
       "      <th>318076</th>\n",
       "      <td>e $150,000-350,000</td>\n",
       "      <td>CATHOLIC SOCIAL SERVICES OF THE UPPER PENINSULA</td>\n",
       "      <td>347 ROCK ST</td>\n",
       "      <td>MARQUETTE</td>\n",
       "      <td>MI</td>\n",
       "      <td>49855.0</td>\n",
       "      <td>813319.0</td>\n",
       "      <td>Non-Profit Organization</td>\n",
       "      <td>Unanswered</td>\n",
       "      <td>Unanswered</td>\n",
       "      <td>Unanswered</td>\n",
       "      <td>Y</td>\n",
       "      <td>23.0</td>\n",
       "      <td>2020-04-15</td>\n",
       "      <td>mBank</td>\n",
       "      <td>MI - 01</td>\n",
       "    </tr>\n",
       "    <tr>\n",
       "      <th>308404</th>\n",
       "      <td>b $2-5 million</td>\n",
       "      <td>SCHOOLCRAFT MEMORIAL HOSPITAL</td>\n",
       "      <td>7870 W US HIGHWAY 2</td>\n",
       "      <td>MANISTIQUE</td>\n",
       "      <td>MI</td>\n",
       "      <td>49854.0</td>\n",
       "      <td>622110.0</td>\n",
       "      <td>Non-Profit Organization</td>\n",
       "      <td>Unanswered</td>\n",
       "      <td>Unanswered</td>\n",
       "      <td>Unanswered</td>\n",
       "      <td>Y</td>\n",
       "      <td>306.0</td>\n",
       "      <td>2020-04-06</td>\n",
       "      <td>mBank</td>\n",
       "      <td>MI - 01</td>\n",
       "    </tr>\n",
       "    <tr>\n",
       "      <th>308489</th>\n",
       "      <td>b $2-5 million</td>\n",
       "      <td>THUNDER BAY COMMUNITY HEALTH SERVICE, INC.</td>\n",
       "      <td>15774 STATE ST</td>\n",
       "      <td>HILLMAN</td>\n",
       "      <td>MI</td>\n",
       "      <td>49746.0</td>\n",
       "      <td>621498.0</td>\n",
       "      <td>Non-Profit Organization</td>\n",
       "      <td>Unanswered</td>\n",
       "      <td>Unanswered</td>\n",
       "      <td>Unanswered</td>\n",
       "      <td>Y</td>\n",
       "      <td>149.0</td>\n",
       "      <td>2020-04-07</td>\n",
       "      <td>mBank</td>\n",
       "      <td>MI - 01</td>\n",
       "    </tr>\n",
       "    <tr>\n",
       "      <th>...</th>\n",
       "      <td>...</td>\n",
       "      <td>...</td>\n",
       "      <td>...</td>\n",
       "      <td>...</td>\n",
       "      <td>...</td>\n",
       "      <td>...</td>\n",
       "      <td>...</td>\n",
       "      <td>...</td>\n",
       "      <td>...</td>\n",
       "      <td>...</td>\n",
       "      <td>...</td>\n",
       "      <td>...</td>\n",
       "      <td>...</td>\n",
       "      <td>...</td>\n",
       "      <td>...</td>\n",
       "      <td>...</td>\n",
       "    </tr>\n",
       "    <tr>\n",
       "      <th>299642</th>\n",
       "      <td>e $150,000-350,000</td>\n",
       "      <td>DORCHESTER COUNTY COMMISSION ON THE AGING, INC</td>\n",
       "      <td>2474 CAMBRIDGE BELTWAY</td>\n",
       "      <td>CAMBRIDGE</td>\n",
       "      <td>MD</td>\n",
       "      <td>21613.0</td>\n",
       "      <td>624120.0</td>\n",
       "      <td>Non-Profit Organization</td>\n",
       "      <td>Unanswered</td>\n",
       "      <td>Unanswered</td>\n",
       "      <td>Unanswered</td>\n",
       "      <td>Y</td>\n",
       "      <td>15.0</td>\n",
       "      <td>2020-04-10</td>\n",
       "      <td>1880 Bank</td>\n",
       "      <td>MD - 01</td>\n",
       "    </tr>\n",
       "    <tr>\n",
       "      <th>176107</th>\n",
       "      <td>e $150,000-350,000</td>\n",
       "      <td>SACRED HEART CATHOLIC CHURCH AND SCHOOL</td>\n",
       "      <td>5752 Blanding Blvd</td>\n",
       "      <td>JACKSONVILLE</td>\n",
       "      <td>FL</td>\n",
       "      <td>32244.0</td>\n",
       "      <td>813211.0</td>\n",
       "      <td>Non-Profit Organization</td>\n",
       "      <td>Unanswered</td>\n",
       "      <td>Unanswered</td>\n",
       "      <td>Unanswered</td>\n",
       "      <td>Y</td>\n",
       "      <td>0.0</td>\n",
       "      <td>2020-04-27</td>\n",
       "      <td>121 Financial CU</td>\n",
       "      <td>FL - 04</td>\n",
       "    </tr>\n",
       "    <tr>\n",
       "      <th>179650</th>\n",
       "      <td>e $150,000-350,000</td>\n",
       "      <td>TIM TEBOW FOUNDATION INC</td>\n",
       "      <td>7700 Sqaure Lake Blvd</td>\n",
       "      <td>JACKSONVILLE</td>\n",
       "      <td>FL</td>\n",
       "      <td>32256.0</td>\n",
       "      <td>813211.0</td>\n",
       "      <td>Non-Profit Organization</td>\n",
       "      <td>Unanswered</td>\n",
       "      <td>Unanswered</td>\n",
       "      <td>Unanswered</td>\n",
       "      <td>Y</td>\n",
       "      <td>0.0</td>\n",
       "      <td>2020-04-07</td>\n",
       "      <td>121 Financial CU</td>\n",
       "      <td>FL - 04</td>\n",
       "    </tr>\n",
       "    <tr>\n",
       "      <th>158667</th>\n",
       "      <td>e $150,000-350,000</td>\n",
       "      <td>BAYMEADOWS MISSIONARY BAPTIST CHURCH INC</td>\n",
       "      <td>4826 Baymeadows Road</td>\n",
       "      <td>JACKSONVILLE</td>\n",
       "      <td>FL</td>\n",
       "      <td>32217.0</td>\n",
       "      <td>813110.0</td>\n",
       "      <td>Non-Profit Organization</td>\n",
       "      <td>Unanswered</td>\n",
       "      <td>Unanswered</td>\n",
       "      <td>Unanswered</td>\n",
       "      <td>Y</td>\n",
       "      <td>0.0</td>\n",
       "      <td>2020-04-27</td>\n",
       "      <td>121 Financial CU</td>\n",
       "      <td>FL - 04</td>\n",
       "    </tr>\n",
       "    <tr>\n",
       "      <th>175806</th>\n",
       "      <td>e $150,000-350,000</td>\n",
       "      <td>RONALD MCDONALD HOUSE CHARITIES OF JACKSONVILL...</td>\n",
       "      <td>824 Childrens Way</td>\n",
       "      <td>JACKSONVILLE</td>\n",
       "      <td>FL</td>\n",
       "      <td>32202.0</td>\n",
       "      <td>813211.0</td>\n",
       "      <td>Non-Profit Organization</td>\n",
       "      <td>Unanswered</td>\n",
       "      <td>Unanswered</td>\n",
       "      <td>Unanswered</td>\n",
       "      <td>Y</td>\n",
       "      <td>0.0</td>\n",
       "      <td>2020-04-09</td>\n",
       "      <td>121 Financial CU</td>\n",
       "      <td>FL - 05</td>\n",
       "    </tr>\n",
       "  </tbody>\n",
       "</table>\n",
       "<p>39293 rows × 16 columns</p>\n",
       "</div>"
      ],
      "text/plain": [
       "                 LoanRange                                       BusinessName  \\\n",
       "255265  e $150,000-350,000                          BUCKLIN HOSPITAL DISTRICT   \n",
       "256168  e $150,000-350,000                       HOSPICE OF THE PRAIRIE, INC.   \n",
       "318076  e $150,000-350,000    CATHOLIC SOCIAL SERVICES OF THE UPPER PENINSULA   \n",
       "308404      b $2-5 million                      SCHOOLCRAFT MEMORIAL HOSPITAL   \n",
       "308489      b $2-5 million         THUNDER BAY COMMUNITY HEALTH SERVICE, INC.   \n",
       "...                    ...                                                ...   \n",
       "299642  e $150,000-350,000     DORCHESTER COUNTY COMMISSION ON THE AGING, INC   \n",
       "176107  e $150,000-350,000            SACRED HEART CATHOLIC CHURCH AND SCHOOL   \n",
       "179650  e $150,000-350,000                           TIM TEBOW FOUNDATION INC   \n",
       "158667  e $150,000-350,000           BAYMEADOWS MISSIONARY BAPTIST CHURCH INC   \n",
       "175806  e $150,000-350,000  RONALD MCDONALD HOUSE CHARITIES OF JACKSONVILL...   \n",
       "\n",
       "                           Address          City State      Zip  NAICSCode  \\\n",
       "255265                   505 W Elm       BUCKLIN    KS  67834.0   623110.0   \n",
       "256168  PO BOX 1298 200 4th Circle    DODGE CITY    KS  67801.0   621610.0   \n",
       "318076                 347 ROCK ST     MARQUETTE    MI  49855.0   813319.0   \n",
       "308404         7870 W US HIGHWAY 2    MANISTIQUE    MI  49854.0   622110.0   \n",
       "308489              15774 STATE ST       HILLMAN    MI  49746.0   621498.0   \n",
       "...                            ...           ...   ...      ...        ...   \n",
       "299642      2474 CAMBRIDGE BELTWAY     CAMBRIDGE    MD  21613.0   624120.0   \n",
       "176107          5752 Blanding Blvd  JACKSONVILLE    FL  32244.0   813211.0   \n",
       "179650       7700 Sqaure Lake Blvd  JACKSONVILLE    FL  32256.0   813211.0   \n",
       "158667        4826 Baymeadows Road  JACKSONVILLE    FL  32217.0   813110.0   \n",
       "175806           824 Childrens Way  JACKSONVILLE    FL  32202.0   813211.0   \n",
       "\n",
       "                   BusinessType RaceEthnicity      Gender     Veteran  \\\n",
       "255265  Non-Profit Organization    Unanswered  Unanswered  Unanswered   \n",
       "256168  Non-Profit Organization    Unanswered  Unanswered  Unanswered   \n",
       "318076  Non-Profit Organization    Unanswered  Unanswered  Unanswered   \n",
       "308404  Non-Profit Organization    Unanswered  Unanswered  Unanswered   \n",
       "308489  Non-Profit Organization    Unanswered  Unanswered  Unanswered   \n",
       "...                         ...           ...         ...         ...   \n",
       "299642  Non-Profit Organization    Unanswered  Unanswered  Unanswered   \n",
       "176107  Non-Profit Organization    Unanswered  Unanswered  Unanswered   \n",
       "179650  Non-Profit Organization    Unanswered  Unanswered  Unanswered   \n",
       "158667  Non-Profit Organization    Unanswered  Unanswered  Unanswered   \n",
       "175806  Non-Profit Organization    Unanswered  Unanswered  Unanswered   \n",
       "\n",
       "       NonProfit  JobsRetained DateApproved  \\\n",
       "255265         Y          34.0   2020-06-26   \n",
       "256168         Y          29.0   2020-04-09   \n",
       "318076         Y          23.0   2020-04-15   \n",
       "308404         Y         306.0   2020-04-06   \n",
       "308489         Y         149.0   2020-04-07   \n",
       "...          ...           ...          ...   \n",
       "299642         Y          15.0   2020-04-10   \n",
       "176107         Y           0.0   2020-04-27   \n",
       "179650         Y           0.0   2020-04-07   \n",
       "158667         Y           0.0   2020-04-27   \n",
       "175806         Y           0.0   2020-04-09   \n",
       "\n",
       "                                           Lender       CD  \n",
       "255265  the Farmers State Bank of Bucklin, Kansas  KS - 01  \n",
       "256168  the Farmers State Bank of Bucklin, Kansas  KS - 01  \n",
       "318076                                      mBank  MI - 01  \n",
       "308404                                      mBank  MI - 01  \n",
       "308489                                      mBank  MI - 01  \n",
       "...                                           ...      ...  \n",
       "299642                                  1880 Bank  MD - 01  \n",
       "176107                           121 Financial CU  FL - 04  \n",
       "179650                           121 Financial CU  FL - 04  \n",
       "158667                           121 Financial CU  FL - 04  \n",
       "175806                           121 Financial CU  FL - 05  \n",
       "\n",
       "[39293 rows x 16 columns]"
      ]
     },
     "execution_count": 116,
     "metadata": {},
     "output_type": "execute_result"
    }
   ],
   "source": [
    "df_temp = df.dropna()\n",
    "df_temp"
   ]
  },
  {
   "cell_type": "code",
   "execution_count": 119,
   "metadata": {},
   "outputs": [
    {
     "ename": "TypeError",
     "evalue": "Cannot perform 'rand_' with a dtyped [float64] array and scalar of type [bool]",
     "output_type": "error",
     "traceback": [
      "\u001b[1;31m---------------------------------------------------------------------------\u001b[0m",
      "\u001b[1;31mTypeError\u001b[0m                                 Traceback (most recent call last)",
      "\u001b[1;32m~\\anaconda3\\lib\\site-packages\\pandas\\core\\ops\\array_ops.py\u001b[0m in \u001b[0;36mna_logical_op\u001b[1;34m(x, y, op)\u001b[0m\n\u001b[0;32m    273\u001b[0m         \u001b[1;31m#  (xint or xbool) and (yint or bool)\u001b[0m\u001b[1;33m\u001b[0m\u001b[1;33m\u001b[0m\u001b[1;33m\u001b[0m\u001b[0m\n\u001b[1;32m--> 274\u001b[1;33m         \u001b[0mresult\u001b[0m \u001b[1;33m=\u001b[0m \u001b[0mop\u001b[0m\u001b[1;33m(\u001b[0m\u001b[0mx\u001b[0m\u001b[1;33m,\u001b[0m \u001b[0my\u001b[0m\u001b[1;33m)\u001b[0m\u001b[1;33m\u001b[0m\u001b[1;33m\u001b[0m\u001b[0m\n\u001b[0m\u001b[0;32m    275\u001b[0m     \u001b[1;32mexcept\u001b[0m \u001b[0mTypeError\u001b[0m\u001b[1;33m:\u001b[0m\u001b[1;33m\u001b[0m\u001b[1;33m\u001b[0m\u001b[0m\n",
      "\u001b[1;32m~\\anaconda3\\lib\\site-packages\\pandas\\core\\ops\\roperator.py\u001b[0m in \u001b[0;36mrand_\u001b[1;34m(left, right)\u001b[0m\n\u001b[0;32m     51\u001b[0m \u001b[1;32mdef\u001b[0m \u001b[0mrand_\u001b[0m\u001b[1;33m(\u001b[0m\u001b[0mleft\u001b[0m\u001b[1;33m,\u001b[0m \u001b[0mright\u001b[0m\u001b[1;33m)\u001b[0m\u001b[1;33m:\u001b[0m\u001b[1;33m\u001b[0m\u001b[1;33m\u001b[0m\u001b[0m\n\u001b[1;32m---> 52\u001b[1;33m     \u001b[1;32mreturn\u001b[0m \u001b[0moperator\u001b[0m\u001b[1;33m.\u001b[0m\u001b[0mand_\u001b[0m\u001b[1;33m(\u001b[0m\u001b[0mright\u001b[0m\u001b[1;33m,\u001b[0m \u001b[0mleft\u001b[0m\u001b[1;33m)\u001b[0m\u001b[1;33m\u001b[0m\u001b[1;33m\u001b[0m\u001b[0m\n\u001b[0m\u001b[0;32m     53\u001b[0m \u001b[1;33m\u001b[0m\u001b[0m\n",
      "\u001b[1;31mTypeError\u001b[0m: ufunc 'bitwise_and' not supported for the input types, and the inputs could not be safely coerced to any supported types according to the casting rule ''safe''",
      "\nDuring handling of the above exception, another exception occurred:\n",
      "\u001b[1;31mValueError\u001b[0m                                Traceback (most recent call last)",
      "\u001b[1;32m~\\anaconda3\\lib\\site-packages\\pandas\\core\\ops\\array_ops.py\u001b[0m in \u001b[0;36mna_logical_op\u001b[1;34m(x, y, op)\u001b[0m\n\u001b[0;32m    287\u001b[0m             \u001b[1;32mtry\u001b[0m\u001b[1;33m:\u001b[0m\u001b[1;33m\u001b[0m\u001b[1;33m\u001b[0m\u001b[0m\n\u001b[1;32m--> 288\u001b[1;33m                 \u001b[0mresult\u001b[0m \u001b[1;33m=\u001b[0m \u001b[0mlibops\u001b[0m\u001b[1;33m.\u001b[0m\u001b[0mscalar_binop\u001b[0m\u001b[1;33m(\u001b[0m\u001b[0mx\u001b[0m\u001b[1;33m,\u001b[0m \u001b[0my\u001b[0m\u001b[1;33m,\u001b[0m \u001b[0mop\u001b[0m\u001b[1;33m)\u001b[0m\u001b[1;33m\u001b[0m\u001b[1;33m\u001b[0m\u001b[0m\n\u001b[0m\u001b[0;32m    289\u001b[0m             except (\n",
      "\u001b[1;32mpandas\\_libs\\ops.pyx\u001b[0m in \u001b[0;36mpandas._libs.ops.scalar_binop\u001b[1;34m()\u001b[0m\n",
      "\u001b[1;31mValueError\u001b[0m: Buffer dtype mismatch, expected 'Python object' but got 'double'",
      "\nDuring handling of the above exception, another exception occurred:\n",
      "\u001b[1;31mTypeError\u001b[0m                                 Traceback (most recent call last)",
      "\u001b[1;32m<ipython-input-119-0d85cf3662b9>\u001b[0m in \u001b[0;36m<module>\u001b[1;34m\u001b[0m\n\u001b[0;32m      1\u001b[0m \u001b[0mvar25\u001b[0m \u001b[1;33m=\u001b[0m \u001b[0mdf_temp\u001b[0m\u001b[1;33m[\u001b[0m\u001b[1;34m'JobsRetained'\u001b[0m\u001b[1;33m]\u001b[0m\u001b[1;33m[\u001b[0m\u001b[0mdf\u001b[0m\u001b[1;33m.\u001b[0m\u001b[0mLoanRange\u001b[0m \u001b[1;33m==\u001b[0m \u001b[1;34m'e $150,000-350,000'\u001b[0m\u001b[1;33m]\u001b[0m\u001b[1;33m[\u001b[0m\u001b[0mdf\u001b[0m\u001b[1;33m.\u001b[0m\u001b[0mJobsRetained\u001b[0m \u001b[1;33m<=\u001b[0m \u001b[1;36m25\u001b[0m\u001b[1;33m]\u001b[0m\u001b[1;33m.\u001b[0m\u001b[0msum\u001b[0m\u001b[1;33m(\u001b[0m\u001b[1;33m)\u001b[0m\u001b[1;33m\u001b[0m\u001b[1;33m\u001b[0m\u001b[0m\n\u001b[1;32m----> 2\u001b[1;33m \u001b[0mvar50\u001b[0m \u001b[1;33m=\u001b[0m \u001b[0mdf_temp\u001b[0m\u001b[1;33m[\u001b[0m\u001b[1;34m'JobsRetained'\u001b[0m\u001b[1;33m]\u001b[0m\u001b[1;33m[\u001b[0m\u001b[0mdf\u001b[0m\u001b[1;33m.\u001b[0m\u001b[0mLoanRange\u001b[0m \u001b[1;33m==\u001b[0m \u001b[1;34m'e $150,000-350,000'\u001b[0m\u001b[1;33m]\u001b[0m\u001b[1;33m[\u001b[0m\u001b[0mdf\u001b[0m\u001b[1;33m.\u001b[0m\u001b[0mJobsRetained\u001b[0m \u001b[1;33m>\u001b[0m \u001b[1;36m25\u001b[0m \u001b[1;33m&\u001b[0m \u001b[0mdf\u001b[0m\u001b[1;33m.\u001b[0m\u001b[0mJobsRetained\u001b[0m \u001b[1;33m<=\u001b[0m \u001b[1;36m50\u001b[0m\u001b[1;33m]\u001b[0m\u001b[1;33m.\u001b[0m\u001b[0msum\u001b[0m\u001b[1;33m(\u001b[0m\u001b[1;33m)\u001b[0m\u001b[1;33m\u001b[0m\u001b[1;33m\u001b[0m\u001b[0m\n\u001b[0m\u001b[0;32m      3\u001b[0m \u001b[0mvar75\u001b[0m \u001b[1;33m=\u001b[0m \u001b[0mdf_temp\u001b[0m\u001b[1;33m[\u001b[0m\u001b[1;34m'JobsRetained'\u001b[0m\u001b[1;33m]\u001b[0m\u001b[1;33m[\u001b[0m\u001b[0mdf\u001b[0m\u001b[1;33m.\u001b[0m\u001b[0mLoanRange\u001b[0m \u001b[1;33m==\u001b[0m \u001b[1;34m'e $150,000-350,000'\u001b[0m\u001b[1;33m]\u001b[0m\u001b[1;33m[\u001b[0m\u001b[0mdf\u001b[0m\u001b[1;33m.\u001b[0m\u001b[0mJobsRetained\u001b[0m \u001b[1;33m>\u001b[0m \u001b[1;36m50\u001b[0m \u001b[1;33m&\u001b[0m \u001b[0mdf\u001b[0m\u001b[1;33m.\u001b[0m\u001b[0mJobsRetained\u001b[0m \u001b[1;33m<=\u001b[0m \u001b[1;36m75\u001b[0m\u001b[1;33m]\u001b[0m\u001b[1;33m.\u001b[0m\u001b[0msum\u001b[0m\u001b[1;33m(\u001b[0m\u001b[1;33m)\u001b[0m\u001b[1;33m\u001b[0m\u001b[1;33m\u001b[0m\u001b[0m\n\u001b[0;32m      4\u001b[0m \u001b[0mvar100\u001b[0m \u001b[1;33m=\u001b[0m \u001b[0mdf_temp\u001b[0m\u001b[1;33m[\u001b[0m\u001b[1;34m'JobsRetained'\u001b[0m\u001b[1;33m]\u001b[0m\u001b[1;33m[\u001b[0m\u001b[0mdf\u001b[0m\u001b[1;33m.\u001b[0m\u001b[0mLoanRange\u001b[0m \u001b[1;33m==\u001b[0m \u001b[1;34m'e $150,000-350,000'\u001b[0m\u001b[1;33m]\u001b[0m\u001b[1;33m[\u001b[0m\u001b[0mdf\u001b[0m\u001b[1;33m.\u001b[0m\u001b[0mJobsRetained\u001b[0m \u001b[1;33m>\u001b[0m \u001b[1;36m75\u001b[0m \u001b[1;33m&\u001b[0m \u001b[0mdf\u001b[0m\u001b[1;33m.\u001b[0m\u001b[0mJobsRetained\u001b[0m \u001b[1;33m<=\u001b[0m \u001b[1;36m100\u001b[0m\u001b[1;33m]\u001b[0m\u001b[1;33m.\u001b[0m\u001b[0msum\u001b[0m\u001b[1;33m(\u001b[0m\u001b[1;33m)\u001b[0m\u001b[1;33m\u001b[0m\u001b[1;33m\u001b[0m\u001b[0m\n\u001b[0;32m      5\u001b[0m \u001b[0mvarHIGH\u001b[0m \u001b[1;33m=\u001b[0m \u001b[0mdf_temp\u001b[0m\u001b[1;33m[\u001b[0m\u001b[1;34m'JobsRetained'\u001b[0m\u001b[1;33m]\u001b[0m\u001b[1;33m[\u001b[0m\u001b[0mdf\u001b[0m\u001b[1;33m.\u001b[0m\u001b[0mLoanRange\u001b[0m \u001b[1;33m==\u001b[0m \u001b[1;34m'e $150,000-350,000'\u001b[0m\u001b[1;33m]\u001b[0m\u001b[1;33m[\u001b[0m\u001b[0mdf\u001b[0m\u001b[1;33m.\u001b[0m\u001b[0mJobsRetained\u001b[0m \u001b[1;33m>\u001b[0m \u001b[1;36m100\u001b[0m\u001b[1;33m]\u001b[0m\u001b[1;33m.\u001b[0m\u001b[0msum\u001b[0m\u001b[1;33m(\u001b[0m\u001b[1;33m)\u001b[0m\u001b[1;33m\u001b[0m\u001b[1;33m\u001b[0m\u001b[0m\n",
      "\u001b[1;32m~\\anaconda3\\lib\\site-packages\\pandas\\core\\ops\\common.py\u001b[0m in \u001b[0;36mnew_method\u001b[1;34m(self, other)\u001b[0m\n\u001b[0;32m     62\u001b[0m         \u001b[0mother\u001b[0m \u001b[1;33m=\u001b[0m \u001b[0mitem_from_zerodim\u001b[0m\u001b[1;33m(\u001b[0m\u001b[0mother\u001b[0m\u001b[1;33m)\u001b[0m\u001b[1;33m\u001b[0m\u001b[1;33m\u001b[0m\u001b[0m\n\u001b[0;32m     63\u001b[0m \u001b[1;33m\u001b[0m\u001b[0m\n\u001b[1;32m---> 64\u001b[1;33m         \u001b[1;32mreturn\u001b[0m \u001b[0mmethod\u001b[0m\u001b[1;33m(\u001b[0m\u001b[0mself\u001b[0m\u001b[1;33m,\u001b[0m \u001b[0mother\u001b[0m\u001b[1;33m)\u001b[0m\u001b[1;33m\u001b[0m\u001b[1;33m\u001b[0m\u001b[0m\n\u001b[0m\u001b[0;32m     65\u001b[0m \u001b[1;33m\u001b[0m\u001b[0m\n\u001b[0;32m     66\u001b[0m     \u001b[1;32mreturn\u001b[0m \u001b[0mnew_method\u001b[0m\u001b[1;33m\u001b[0m\u001b[1;33m\u001b[0m\u001b[0m\n",
      "\u001b[1;32m~\\anaconda3\\lib\\site-packages\\pandas\\core\\ops\\__init__.py\u001b[0m in \u001b[0;36mwrapper\u001b[1;34m(self, other)\u001b[0m\n\u001b[0;32m    547\u001b[0m         \u001b[0mrvalues\u001b[0m \u001b[1;33m=\u001b[0m \u001b[0mextract_array\u001b[0m\u001b[1;33m(\u001b[0m\u001b[0mother\u001b[0m\u001b[1;33m,\u001b[0m \u001b[0mextract_numpy\u001b[0m\u001b[1;33m=\u001b[0m\u001b[1;32mTrue\u001b[0m\u001b[1;33m)\u001b[0m\u001b[1;33m\u001b[0m\u001b[1;33m\u001b[0m\u001b[0m\n\u001b[0;32m    548\u001b[0m \u001b[1;33m\u001b[0m\u001b[0m\n\u001b[1;32m--> 549\u001b[1;33m         \u001b[0mres_values\u001b[0m \u001b[1;33m=\u001b[0m \u001b[0mlogical_op\u001b[0m\u001b[1;33m(\u001b[0m\u001b[0mlvalues\u001b[0m\u001b[1;33m,\u001b[0m \u001b[0mrvalues\u001b[0m\u001b[1;33m,\u001b[0m \u001b[0mop\u001b[0m\u001b[1;33m)\u001b[0m\u001b[1;33m\u001b[0m\u001b[1;33m\u001b[0m\u001b[0m\n\u001b[0m\u001b[0;32m    550\u001b[0m         \u001b[1;32mreturn\u001b[0m \u001b[0m_construct_result\u001b[0m\u001b[1;33m(\u001b[0m\u001b[0mself\u001b[0m\u001b[1;33m,\u001b[0m \u001b[0mres_values\u001b[0m\u001b[1;33m,\u001b[0m \u001b[0mindex\u001b[0m\u001b[1;33m=\u001b[0m\u001b[0mself\u001b[0m\u001b[1;33m.\u001b[0m\u001b[0mindex\u001b[0m\u001b[1;33m,\u001b[0m \u001b[0mname\u001b[0m\u001b[1;33m=\u001b[0m\u001b[0mres_name\u001b[0m\u001b[1;33m)\u001b[0m\u001b[1;33m\u001b[0m\u001b[1;33m\u001b[0m\u001b[0m\n\u001b[0;32m    551\u001b[0m \u001b[1;33m\u001b[0m\u001b[0m\n",
      "\u001b[1;32m~\\anaconda3\\lib\\site-packages\\pandas\\core\\ops\\array_ops.py\u001b[0m in \u001b[0;36mlogical_op\u001b[1;34m(left, right, op)\u001b[0m\n\u001b[0;32m    364\u001b[0m         \u001b[0mfiller\u001b[0m \u001b[1;33m=\u001b[0m \u001b[0mfill_int\u001b[0m \u001b[1;32mif\u001b[0m \u001b[0mis_self_int_dtype\u001b[0m \u001b[1;32mand\u001b[0m \u001b[0mis_other_int_dtype\u001b[0m \u001b[1;32melse\u001b[0m \u001b[0mfill_bool\u001b[0m\u001b[1;33m\u001b[0m\u001b[1;33m\u001b[0m\u001b[0m\n\u001b[0;32m    365\u001b[0m \u001b[1;33m\u001b[0m\u001b[0m\n\u001b[1;32m--> 366\u001b[1;33m         \u001b[0mres_values\u001b[0m \u001b[1;33m=\u001b[0m \u001b[0mna_logical_op\u001b[0m\u001b[1;33m(\u001b[0m\u001b[0mlvalues\u001b[0m\u001b[1;33m,\u001b[0m \u001b[0mrvalues\u001b[0m\u001b[1;33m,\u001b[0m \u001b[0mop\u001b[0m\u001b[1;33m)\u001b[0m\u001b[1;33m\u001b[0m\u001b[1;33m\u001b[0m\u001b[0m\n\u001b[0m\u001b[0;32m    367\u001b[0m         \u001b[0mres_values\u001b[0m \u001b[1;33m=\u001b[0m \u001b[0mfiller\u001b[0m\u001b[1;33m(\u001b[0m\u001b[0mres_values\u001b[0m\u001b[1;33m)\u001b[0m  \u001b[1;31m# type: ignore\u001b[0m\u001b[1;33m\u001b[0m\u001b[1;33m\u001b[0m\u001b[0m\n\u001b[0;32m    368\u001b[0m \u001b[1;33m\u001b[0m\u001b[0m\n",
      "\u001b[1;32m~\\anaconda3\\lib\\site-packages\\pandas\\core\\ops\\array_ops.py\u001b[0m in \u001b[0;36mna_logical_op\u001b[1;34m(x, y, op)\u001b[0m\n\u001b[0;32m    296\u001b[0m                 \u001b[0mtyp\u001b[0m \u001b[1;33m=\u001b[0m \u001b[0mtype\u001b[0m\u001b[1;33m(\u001b[0m\u001b[0my\u001b[0m\u001b[1;33m)\u001b[0m\u001b[1;33m.\u001b[0m\u001b[0m__name__\u001b[0m\u001b[1;33m\u001b[0m\u001b[1;33m\u001b[0m\u001b[0m\n\u001b[0;32m    297\u001b[0m                 raise TypeError(\n\u001b[1;32m--> 298\u001b[1;33m                     \u001b[1;34mf\"Cannot perform '{op.__name__}' with a dtyped [{x.dtype}] array \"\u001b[0m\u001b[1;33m\u001b[0m\u001b[1;33m\u001b[0m\u001b[0m\n\u001b[0m\u001b[0;32m    299\u001b[0m                     \u001b[1;34mf\"and scalar of type [{typ}]\"\u001b[0m\u001b[1;33m\u001b[0m\u001b[1;33m\u001b[0m\u001b[0m\n\u001b[0;32m    300\u001b[0m                 )\n",
      "\u001b[1;31mTypeError\u001b[0m: Cannot perform 'rand_' with a dtyped [float64] array and scalar of type [bool]"
     ]
    }
   ],
   "source": [
    "## make a function\n",
    "\n",
    "var25 = df_temp['JobsRetained'][df.LoanRange == 'e $150,000-350,000'][df.JobsRetained <= 25].sum()\n",
    "var50 = df_temp['JobsRetained'][df.LoanRange == 'e $150,000-350,000'][df.JobsRetained > 25 and df.JobsRetained <= 50].sum()\n",
    "var75 = df_temp['JobsRetained'][df.LoanRange == 'e $150,000-350,000'][df.JobsRetained > 50 and df.JobsRetained <= 75].sum()\n",
    "var100 = df_temp['JobsRetained'][df.LoanRange == 'e $150,000-350,000'][df.JobsRetained > 75 and df.JobsRetained <= 100].sum()\n",
    "varHIGH = df_temp['JobsRetained'][df.LoanRange == 'e $150,000-350,000'][df.JobsRetained > 100].sum()\n",
    "\n",
    "c = [var25, var50, var75, var100, varHIGH]\n",
    "d = ['less or equal than 25 jobs', 'less or equal than 50 jobs', 'less or equal than 75 jobs', 'less or equal than 100 jobs', 'higher than 100 jobs']\n",
    "\n",
    "plt.pie(c, labels=d, autopct='%1.1f%%')\n",
    "plt.show()"
   ]
  },
  {
   "cell_type": "code",
   "execution_count": 96,
   "metadata": {},
   "outputs": [
    {
     "data": {
      "text/plain": [
       "[7900745.0, 826179.0]"
      ]
     },
     "execution_count": 96,
     "metadata": {},
     "output_type": "execute_result"
    }
   ],
   "source": [
    "c"
   ]
  },
  {
   "cell_type": "markdown",
   "metadata": {},
   "source": [
    "### Number of jobs retained"
   ]
  },
  {
   "cell_type": "code",
   "execution_count": 12,
   "metadata": {},
   "outputs": [
    {
     "data": {
      "text/html": [
       "<div>\n",
       "<style scoped>\n",
       "    .dataframe tbody tr th:only-of-type {\n",
       "        vertical-align: middle;\n",
       "    }\n",
       "\n",
       "    .dataframe tbody tr th {\n",
       "        vertical-align: top;\n",
       "    }\n",
       "\n",
       "    .dataframe thead th {\n",
       "        text-align: right;\n",
       "    }\n",
       "</style>\n",
       "<table border=\"1\" class=\"dataframe\">\n",
       "  <thead>\n",
       "    <tr style=\"text-align: right;\">\n",
       "      <th></th>\n",
       "      <th>LoanRange</th>\n",
       "      <th>BusinessName</th>\n",
       "      <th>Address</th>\n",
       "      <th>City</th>\n",
       "      <th>State</th>\n",
       "      <th>Zip</th>\n",
       "      <th>NAICSCode</th>\n",
       "      <th>BusinessType</th>\n",
       "      <th>RaceEthnicity</th>\n",
       "      <th>Gender</th>\n",
       "      <th>Veteran</th>\n",
       "      <th>NonProfit</th>\n",
       "      <th>JobsRetained</th>\n",
       "      <th>DateApproved</th>\n",
       "      <th>Lender</th>\n",
       "      <th>CD</th>\n",
       "    </tr>\n",
       "  </thead>\n",
       "  <tbody>\n",
       "  </tbody>\n",
       "</table>\n",
       "</div>"
      ],
      "text/plain": [
       "Empty DataFrame\n",
       "Columns: [LoanRange, BusinessName, Address, City, State, Zip, NAICSCode, BusinessType, RaceEthnicity, Gender, Veteran, NonProfit, JobsRetained, DateApproved, Lender, CD]\n",
       "Index: []"
      ]
     },
     "execution_count": 12,
     "metadata": {},
     "output_type": "execute_result"
    }
   ],
   "source": [
    "df.head(0)"
   ]
  },
  {
   "cell_type": "code",
   "execution_count": 13,
   "metadata": {
    "scrolled": true
   },
   "outputs": [
    {
     "data": {
      "text/plain": [
       "389.66627050154506"
      ]
     },
     "execution_count": 13,
     "metadata": {},
     "output_type": "execute_result"
    }
   ],
   "source": [
    "df['JobsRetained'][df.JobsRetained != 0][df.LoanRange == 'a $5-10 million'].dropna().mean()"
   ]
  },
  {
   "cell_type": "markdown",
   "metadata": {},
   "source": [
    "##### How many jobs were retained based on states?"
   ]
  },
  {
   "cell_type": "code",
   "execution_count": 14,
   "metadata": {},
   "outputs": [
    {
     "data": {
      "text/html": [
       "<div>\n",
       "<style scoped>\n",
       "    .dataframe tbody tr th:only-of-type {\n",
       "        vertical-align: middle;\n",
       "    }\n",
       "\n",
       "    .dataframe tbody tr th {\n",
       "        vertical-align: top;\n",
       "    }\n",
       "\n",
       "    .dataframe thead th {\n",
       "        text-align: right;\n",
       "    }\n",
       "</style>\n",
       "<table border=\"1\" class=\"dataframe\">\n",
       "  <thead>\n",
       "    <tr style=\"text-align: right;\">\n",
       "      <th></th>\n",
       "      <th>LoanRange</th>\n",
       "      <th>BusinessName</th>\n",
       "      <th>Address</th>\n",
       "      <th>City</th>\n",
       "      <th>State</th>\n",
       "      <th>Zip</th>\n",
       "      <th>NAICSCode</th>\n",
       "      <th>BusinessType</th>\n",
       "      <th>RaceEthnicity</th>\n",
       "      <th>Gender</th>\n",
       "      <th>Veteran</th>\n",
       "      <th>NonProfit</th>\n",
       "      <th>JobsRetained</th>\n",
       "      <th>DateApproved</th>\n",
       "      <th>Lender</th>\n",
       "      <th>CD</th>\n",
       "    </tr>\n",
       "  </thead>\n",
       "  <tbody>\n",
       "    <tr>\n",
       "      <th>0</th>\n",
       "      <td>a $5-10 million</td>\n",
       "      <td>ARCTIC SLOPE NATIVE ASSOCIATION, LTD.</td>\n",
       "      <td>7000 Uula St</td>\n",
       "      <td>BARROW</td>\n",
       "      <td>AK</td>\n",
       "      <td>99723.0</td>\n",
       "      <td>813920.0</td>\n",
       "      <td>Non-Profit Organization</td>\n",
       "      <td>Unanswered</td>\n",
       "      <td>Unanswered</td>\n",
       "      <td>Unanswered</td>\n",
       "      <td>Y</td>\n",
       "      <td>295.0</td>\n",
       "      <td>2020-04-14</td>\n",
       "      <td>National Cooperative Bank, National Association</td>\n",
       "      <td>AK - 00</td>\n",
       "    </tr>\n",
       "    <tr>\n",
       "      <th>25</th>\n",
       "      <td>b $2-5 million</td>\n",
       "      <td>ANCHORAGE COMMUNITY MENTAL HEALTH SERVICES, INC.</td>\n",
       "      <td>4020 FOLKER STREET</td>\n",
       "      <td>ANCHORAGE</td>\n",
       "      <td>AK</td>\n",
       "      <td>99508.0</td>\n",
       "      <td>621498.0</td>\n",
       "      <td>Non-Profit Organization</td>\n",
       "      <td>Unanswered</td>\n",
       "      <td>Unanswered</td>\n",
       "      <td>Unanswered</td>\n",
       "      <td>Y</td>\n",
       "      <td>168.0</td>\n",
       "      <td>2020-04-09</td>\n",
       "      <td>First National Bank Alaska</td>\n",
       "      <td>AK - 00</td>\n",
       "    </tr>\n",
       "    <tr>\n",
       "      <th>39</th>\n",
       "      <td>b $2-5 million</td>\n",
       "      <td>FAMILY CENTERED SERVICES OF ALASKA, INC.</td>\n",
       "      <td>1825 Marika Rd.</td>\n",
       "      <td>FAIRBANKS</td>\n",
       "      <td>AK</td>\n",
       "      <td>99709.0</td>\n",
       "      <td>621420.0</td>\n",
       "      <td>Non-Profit Organization</td>\n",
       "      <td>Unanswered</td>\n",
       "      <td>Male Owned</td>\n",
       "      <td>Unanswered</td>\n",
       "      <td>Y</td>\n",
       "      <td>145.0</td>\n",
       "      <td>2020-04-03</td>\n",
       "      <td>Northrim Bank</td>\n",
       "      <td>AK - 00</td>\n",
       "    </tr>\n",
       "  </tbody>\n",
       "</table>\n",
       "</div>"
      ],
      "text/plain": [
       "          LoanRange                                      BusinessName  \\\n",
       "0   a $5-10 million             ARCTIC SLOPE NATIVE ASSOCIATION, LTD.   \n",
       "25   b $2-5 million  ANCHORAGE COMMUNITY MENTAL HEALTH SERVICES, INC.   \n",
       "39   b $2-5 million          FAMILY CENTERED SERVICES OF ALASKA, INC.   \n",
       "\n",
       "               Address       City State      Zip  NAICSCode  \\\n",
       "0         7000 Uula St     BARROW    AK  99723.0   813920.0   \n",
       "25  4020 FOLKER STREET  ANCHORAGE    AK  99508.0   621498.0   \n",
       "39     1825 Marika Rd.  FAIRBANKS    AK  99709.0   621420.0   \n",
       "\n",
       "               BusinessType RaceEthnicity      Gender     Veteran NonProfit  \\\n",
       "0   Non-Profit Organization    Unanswered  Unanswered  Unanswered         Y   \n",
       "25  Non-Profit Organization    Unanswered  Unanswered  Unanswered         Y   \n",
       "39  Non-Profit Organization    Unanswered  Male Owned  Unanswered         Y   \n",
       "\n",
       "    JobsRetained DateApproved  \\\n",
       "0          295.0   2020-04-14   \n",
       "25         168.0   2020-04-09   \n",
       "39         145.0   2020-04-03   \n",
       "\n",
       "                                             Lender       CD  \n",
       "0   National Cooperative Bank, National Association  AK - 00  \n",
       "25                       First National Bank Alaska  AK - 00  \n",
       "39                                    Northrim Bank  AK - 00  "
      ]
     },
     "execution_count": 14,
     "metadata": {},
     "output_type": "execute_result"
    }
   ],
   "source": [
    "df_temp = df.dropna()\n",
    "df_temp.head(3)"
   ]
  },
  {
   "cell_type": "code",
   "execution_count": 120,
   "metadata": {
    "scrolled": false
   },
   "outputs": [
    {
     "data": {
      "text/plain": [
       "e $150,000-350,000      379048\n",
       "d $350,000-1 million    199455\n",
       "c $1-2 million           53029\n",
       "b $2-5 million           24837\n",
       "a $5-10 million           4840\n",
       "Name: LoanRange, dtype: int64"
      ]
     },
     "execution_count": 120,
     "metadata": {},
     "output_type": "execute_result"
    }
   ],
   "source": [
    "df_temp = df_temp.dropna().groupby(by='State').sum().sort_values(by='JobsRetained', ascending=False)\n",
    "\n",
    "labels_state = list(df_temp.head(10).index)\n",
    "values_jobs = list(df_temp['JobsRetained'].head(10))\n",
    "\n",
    "values"
   ]
  },
  {
   "cell_type": "code",
   "execution_count": 121,
   "metadata": {},
   "outputs": [
    {
     "data": {
      "text/plain": [
       "State\n",
       "CA    324187.0\n",
       "NY    271449.0\n",
       "TX    189024.0\n",
       "PA    146410.0\n",
       "IL    141241.0\n",
       "FL    139672.0\n",
       "OH    126452.0\n",
       "MA     97802.0\n",
       "MN     86760.0\n",
       "MI     83666.0\n",
       "Name: JobsRetained, dtype: float64"
      ]
     },
     "execution_count": 121,
     "metadata": {},
     "output_type": "execute_result"
    }
   ],
   "source": [
    "states = df_temp.head(10).index\n",
    "jobs = df_temp['JobsRetained'].head(10)\n",
    "jobs"
   ]
  },
  {
   "cell_type": "code",
   "execution_count": 43,
   "metadata": {},
   "outputs": [
    {
     "data": {
      "image/png": "[encoded data removed]",
      "text/plain": [
       "<Figure size 432x288 with 1 Axes>"
      ]
     },
     "metadata": {
      "needs_background": "light"
     },
     "output_type": "display_data"
    }
   ],
   "source": [
    "fig, ax = plt.subplots()\n",
    "\n",
    "ax.bar(states, jobs)\n",
    "\n",
    "ax.set_title('Number of jobs retained for state')\n",
    "ax.set_xlabel('States')\n",
    "ax.set_ylabel('Number of jobs')\n",
    "\n",
    "plt.show()"
   ]
  },
  {
   "cell_type": "markdown",
   "metadata": {},
   "source": [
    "##### Converting strings to dates"
   ]
  },
  {
   "cell_type": "code",
   "execution_count": 122,
   "metadata": {},
   "outputs": [],
   "source": [
    "def new_data(dateStr):\n",
    "    return pd.to_datetime(dateStr)\n",
    "\n",
    "df['DateApproved'] = df['DateApproved'].apply(new_data)"
   ]
  },
  {
   "cell_type": "markdown",
   "metadata": {},
   "source": [
    "### Creating a graphic of lines with jobs retained"
   ]
  },
  {
   "cell_type": "code",
   "execution_count": 133,
   "metadata": {},
   "outputs": [
    {
     "data": {
      "text/plain": [
       "309657   2020-04-03\n",
       "308098   2020-04-04\n",
       "651030   2020-04-05\n",
       "308404   2020-04-06\n",
       "308518   2020-04-07\n",
       "            ...    \n",
       "255265   2020-06-26\n",
       "88737    2020-06-27\n",
       "110131   2020-06-28\n",
       "456593   2020-06-29\n",
       "248301   2020-06-30\n",
       "Name: DateApproved, Length: 79, dtype: datetime64[ns]"
      ]
     },
     "execution_count": 133,
     "metadata": {},
     "output_type": "execute_result"
    }
   ],
   "source": [
    "labelsData = df['DateApproved'].drop_duplicates()\n",
    "labelsData = labelsData.sort_values(ascending=True)\n",
    "labelsData"
   ]
  },
  {
   "cell_type": "code",
   "execution_count": 134,
   "metadata": {},
   "outputs": [
    {
     "data": {
      "text/plain": [
       "DateApproved\n",
       "2020-04-03     515019.0\n",
       "2020-04-04     857755.0\n",
       "2020-04-05    1075808.0\n",
       "2020-04-06    1508140.0\n",
       "2020-04-07    1935181.0\n",
       "                ...    \n",
       "2020-06-26      38569.0\n",
       "2020-06-27      10416.0\n",
       "2020-06-28       9403.0\n",
       "2020-06-29      38013.0\n",
       "2020-06-30      48587.0\n",
       "Name: JobsRetained, Length: 79, dtype: float64"
      ]
     },
     "execution_count": 134,
     "metadata": {},
     "output_type": "execute_result"
    }
   ],
   "source": [
    "valuesData = df.groupby('DateApproved').sum()\n",
    "valuesData = valuesData['JobsRetained']\n",
    "valuesData"
   ]
  },
  {
   "cell_type": "markdown",
   "metadata": {},
   "source": [
    "#### First try with plot from plt"
   ]
  },
  {
   "cell_type": "code",
   "execution_count": 164,
   "metadata": {},
   "outputs": [
    {
     "data": {
      "image/png": "[encoded data removed]",
      "text/plain": [
       "<Figure size 864x360 with 1 Axes>"
      ]
     },
     "metadata": {
      "needs_background": "light"
     },
     "output_type": "display_data"
    }
   ],
   "source": [
    "plt.figure(figsize=(12,5))\n",
    "plt.plot(labelsData, valuesData)\n",
    "plt.title(\"Loans across time\", fontdict={'fontname': 'Comic Sans MS', 'fontsize': 15})\n",
    "plt.xticks(rotation=90, fontstretch='ultra-expanded')\n",
    "plt.xlabel(\"Data\")\n",
    "plt.ylabel(\"Loans\")\n",
    "plt.show()"
   ]
  },
  {
   "cell_type": "markdown",
   "metadata": {},
   "source": [
    "#### Second try with pivot table from pandas"
   ]
  },
  {
   "cell_type": "markdown",
   "metadata": {},
   "source": [
    "### Creating a second dataframe with dates as index"
   ]
  },
  {
   "cell_type": "code",
   "execution_count": 149,
   "metadata": {},
   "outputs": [],
   "source": [
    "df_dates = pd.read_csv('PPP_ORIGINAL.csv', parse_dates=[\"DateApproved\"], index_col='DateApproved').dropna()\n",
    "df_dates = df_dates.sort_values(by='DateApproved', ascending=True)"
   ]
  },
  {
   "cell_type": "code",
   "execution_count": 162,
   "metadata": {},
   "outputs": [
    {
     "data": {
      "text/plain": [
       "DatetimeIndex(['2020-04-03', '2020-04-04', '2020-04-05', '2020-04-06',\n",
       "               '2020-04-07', '2020-04-08', '2020-04-09', '2020-04-10',\n",
       "               '2020-04-11', '2020-04-12', '2020-04-13', '2020-04-14',\n",
       "               '2020-04-15', '2020-04-16', '2020-04-27', '2020-04-28',\n",
       "               '2020-04-29', '2020-04-30', '2020-05-01', '2020-05-02',\n",
       "               '2020-05-03', '2020-05-04', '2020-05-05', '2020-05-06',\n",
       "               '2020-05-07', '2020-05-08', '2020-05-09', '2020-05-10'],\n",
       "              dtype='datetime64[ns]', name='DateApproved', freq=None)"
      ]
     },
     "execution_count": 162,
     "metadata": {},
     "output_type": "execute_result"
    }
   ],
   "source": [
    "labelsData = df_dates['20200401':'20200510'].index.drop_duplicates()\n",
    "labelsData = labelsData.sort_values(ascending=True)\n",
    "labelsData"
   ]
  },
  {
   "cell_type": "code",
   "execution_count": 161,
   "metadata": {},
   "outputs": [
    {
     "data": {
      "text/plain": [
       "DateApproved\n",
       "2020-04-03     411\n",
       "2020-04-04     786\n",
       "2020-04-05     956\n",
       "2020-04-06    1596\n",
       "2020-04-07    2250\n",
       "2020-04-08    2191\n",
       "2020-04-09    2411\n",
       "2020-04-10    2375\n",
       "2020-04-11    1863\n",
       "2020-04-12     901\n",
       "2020-04-13    2176\n",
       "2020-04-14    2879\n",
       "2020-04-15    3488\n",
       "2020-04-16     752\n",
       "2020-04-27    3115\n",
       "2020-04-28    3508\n",
       "2020-04-29    1377\n",
       "2020-04-30    1448\n",
       "2020-05-01     651\n",
       "2020-05-02     119\n",
       "2020-05-03    1939\n",
       "2020-05-04     116\n",
       "2020-05-05     131\n",
       "2020-05-06     138\n",
       "2020-05-07     110\n",
       "2020-05-08     108\n",
       "2020-05-09      12\n",
       "2020-05-10       6\n",
       "Name: JobsRetained, dtype: int64"
      ]
     },
     "execution_count": 161,
     "metadata": {},
     "output_type": "execute_result"
    }
   ],
   "source": [
    "valuesData = df_dates['20200401':'20200510'].groupby('DateApproved').count()\n",
    "valuesData = valuesData['JobsRetained']\n",
    "valuesData "
   ]
  },
  {
   "cell_type": "code",
   "execution_count": 160,
   "metadata": {},
   "outputs": [
    {
     "data": {
      "image/png": "[encoded data removed]",
      "text/plain": [
       "<Figure size 864x360 with 1 Axes>"
      ]
     },
     "metadata": {
      "needs_background": "light"
     },
     "output_type": "display_data"
    }
   ],
   "source": [
    "plt.figure(figsize=(12,5))\n",
    "plt.plot(labelsData, valuesData)\n",
    "plt.title(\"Loans across time\", fontdict={'fontname': 'Comic Sans MS', 'fontsize': 15})\n",
    "plt.xticks(rotation=90, fontstretch='ultra-expanded')\n",
    "plt.xlabel(\"Data\")\n",
    "plt.ylabel(\"Jobs Retained\")\n",
    "plt.show()"
   ]
  },
  {
   "cell_type": "markdown",
   "metadata": {},
   "source": [
    "### How many owners are male and female? "
   ]
  },
  {
   "cell_type": "code",
   "execution_count": 193,
   "metadata": {},
   "outputs": [
    {
     "data": {
      "text/plain": [
       "[159611, 31352]"
      ]
     },
     "execution_count": 193,
     "metadata": {},
     "output_type": "execute_result"
    }
   ],
   "source": [
    "df_temp = df.groupby('Gender').count().sort_values(by = 'LoanRange', ascending=False)\n",
    "\n",
    "labelsG = list(df_temp.index[df_temp.index != 'Unanswered'])\n",
    "\n",
    "valuesG = list(df_temp.LoanRange[df_temp.index != 'Unanswered'])\n",
    "\n",
    "valuesG"
   ]
  },
  {
   "cell_type": "code",
   "execution_count": 194,
   "metadata": {},
   "outputs": [
    {
     "data": {
      "image/png": "[encoded data removed]",
      "text/plain": [
       "<Figure size 432x288 with 1 Axes>"
      ]
     },
     "metadata": {},
     "output_type": "display_data"
    }
   ],
   "source": [
    "fig, ax = plt.subplots()\n",
    "ax.pie(valuesG, labels=labelsG, shadow=True, autopct='%1.1f%%')\n",
    "plt.show()"
   ]
  },
  {
   "cell_type": "markdown",
   "metadata": {},
   "source": [
    "### What is the percentage of ethnicity in this dataset?"
   ]
  },
  {
   "cell_type": "code",
   "execution_count": 197,
   "metadata": {},
   "outputs": [
    {
     "data": {
      "text/plain": [
       "['White',\n",
       " 'Asian',\n",
       " 'Hispanic',\n",
       " 'Black or African American',\n",
       " 'American Indian or Alaska Native',\n",
       " 'Puerto Rican']"
      ]
     },
     "execution_count": 197,
     "metadata": {},
     "output_type": "execute_result"
    }
   ],
   "source": [
    "df_temp = df.groupby('RaceEthnicity').count().sort_values(by = 'LoanRange', ascending=False)\n",
    "\n",
    "labelsR = list(df_temp.index[df_temp.index != 'Unanswered'])\n",
    "\n",
    "valuesR = list(df_temp.LoanRange[df_temp.index != 'Unanswered'])\n",
    "\n",
    "labelsR"
   ]
  },
  {
   "cell_type": "code",
   "execution_count": 198,
   "metadata": {},
   "outputs": [
    {
     "data": {
      "image/png": "[encoded data removed]",
      "text/plain": [
       "<Figure size 432x288 with 1 Axes>"
      ]
     },
     "metadata": {},
     "output_type": "display_data"
    }
   ],
   "source": [
    "fig, ax = plt.subplots()\n",
    "texts = ax.pie(valuesR, labels=labelsR, autopct='%1.1f%%')   \n",
    "ax.legend(loc= 'center left', bbox_to_anchor=(1.7, 0.5), labelspacing=0.8)\n",
    "plt.show()"
   ]
  },
  {
   "cell_type": "code",
   "execution_count": 28,
   "metadata": {},
   "outputs": [
    {
     "data": {
      "text/plain": [
       "Unanswered                          566708\n",
       "White                                78782\n",
       "Asian                                 7139\n",
       "Hispanic                              6201\n",
       "Black or African American             1827\n",
       "American Indian or Alaska Native       551\n",
       "Puerto Rican                             1\n",
       "Name: RaceEthnicity, dtype: int64"
      ]
     },
     "execution_count": 28,
     "metadata": {},
     "output_type": "execute_result"
    }
   ],
   "source": [
    "countRE =  df['RaceEthnicity'].value_counts()\n",
    "countRE "
   ]
  },
  {
   "cell_type": "code",
   "execution_count": null,
   "metadata": {},
   "outputs": [],
   "source": []
  }
 ],
 "metadata": {
  "kernelspec": {
   "display_name": "Python 3",
   "language": "python",
   "name": "python3"
  },
  "language_info": {
   "codemirror_mode": {
    "name": "ipython",
    "version": 3
   },
   "file_extension": ".py",
   "mimetype": "text/x-python",
   "name": "python",
   "nbconvert_exporter": "python",
   "pygments_lexer": "ipython3",
   "version": "3.7.6"
  }
 },
 "nbformat": 4,
 "nbformat_minor": 4
}
